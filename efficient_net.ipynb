{
 "cells": [
  {
   "cell_type": "code",
   "execution_count": 32,
   "metadata": {},
   "outputs": [],
   "source": [
    "from tensorflow.keras import datasets, layers, models\n",
    "from tensorflow import keras\n",
    "import matplotlib.pyplot as plt\n",
    "import numpy as np\n",
    "from tensorflow.keras.preprocessing.image import ImageDataGenerator\n",
    "import os\n",
    "import tensorflow as tf\n",
    "from tensorflow.keras.applications import EfficientNetB0\n",
    "from tensorflow.keras.models import Sequential\n",
    "from tensorflow.keras.layers import GlobalAveragePooling2D, Dense\n",
    "from tensorflow.keras.preprocessing.image import ImageDataGenerator\n",
    "import re"
   ]
  },
  {
   "cell_type": "code",
   "execution_count": 33,
   "metadata": {},
   "outputs": [],
   "source": [
    "# set parameters\n",
    "np.random.seed(0)\n",
    "classes = [\"airplane\", \"automobile\", \"bird\", \"cat\", \"deer\", \"dog\", \"frog\", \"horse\", \"ship\", \"truck\"]\n",
    "data_dir = \"data/cinic10\"\n",
    "\n",
    "batch_size = 64\n",
    "epochs = 50\n",
    "\n",
    "steps_per_epoch = 1e10\n",
    "steps_per_epoch = min(steps_per_epoch, 90000/batch_size)"
   ]
  },
  {
   "cell_type": "code",
   "execution_count": 34,
   "metadata": {},
   "outputs": [
    {
     "name": "stdout",
     "output_type": "stream",
     "text": [
      "Found 90000 images belonging to 10 classes.\n",
      "Found 90000 images belonging to 10 classes.\n"
     ]
    }
   ],
   "source": [
    "# create generators for the training and test sets\n",
    "\n",
    "\n",
    "\n",
    "datagenTrain = ImageDataGenerator(\n",
    "    width_shift_range=0.05,\n",
    "    height_shift_range=0.05,\n",
    "    rotation_range=10,\n",
    "    shear_range=0.3,\n",
    "    horizontal_flip=True,\n",
    "    fill_mode=\"reflect\",\n",
    "    )\n",
    "datagenTest = ImageDataGenerator()\n",
    "train_generator = datagenTrain.flow_from_directory(\n",
    "    data_dir + \"/train\",\n",
    "    target_size=(32, 32),  # Resize images to this size\n",
    "    batch_size=batch_size,  # Number of images to load at each iteration\n",
    "    class_mode=\"categorical\",\n",
    ")  # Type of classification ('binary' or 'categorical')\n",
    "\n",
    "test_generator = datagenTest.flow_from_directory(\n",
    "    data_dir + \"/test\",\n",
    "    target_size=(32, 32),\n",
    "    batch_size=batch_size,\n",
    "    class_mode=\"categorical\",\n",
    ")"
   ]
  },
  {
   "cell_type": "code",
   "execution_count": null,
   "metadata": {},
   "outputs": [],
   "source": []
  },
  {
   "cell_type": "code",
   "execution_count": 35,
   "metadata": {},
   "outputs": [
    {
     "name": "stdout",
     "output_type": "stream",
     "text": [
      "Epoch 1/50\n"
     ]
    },
    {
     "name": "stderr",
     "output_type": "stream",
     "text": [
      "2024-03-22 00:31:26.638536: I tensorflow/core/common_runtime/executor.cc:1197] [/device:CPU:0] (DEBUG INFO) Executor start aborting (this does not indicate an error and you can ignore this message): INVALID_ARGUMENT: You must feed a value for placeholder tensor 'Placeholder/_0' with dtype int32\n",
      "\t [[{{node Placeholder/_0}}]]\n"
     ]
    },
    {
     "name": "stdout",
     "output_type": "stream",
     "text": [
      "1407/1407 [==============================] - ETA: 0s - loss: 1.3009 - accuracy: 0.5416"
     ]
    },
    {
     "name": "stderr",
     "output_type": "stream",
     "text": [
      "2024-03-22 00:34:14.282815: I tensorflow/core/common_runtime/executor.cc:1197] [/device:CPU:0] (DEBUG INFO) Executor start aborting (this does not indicate an error and you can ignore this message): INVALID_ARGUMENT: You must feed a value for placeholder tensor 'Placeholder/_0' with dtype int32\n",
      "\t [[{{node Placeholder/_0}}]]\n"
     ]
    },
    {
     "name": "stdout",
     "output_type": "stream",
     "text": [
      "1407/1407 [==============================] - 205s 142ms/step - loss: 1.3009 - accuracy: 0.5416 - val_loss: 1.0274 - val_accuracy: 0.6350\n",
      "Epoch 2/50\n",
      "1407/1407 [==============================] - 190s 135ms/step - loss: 1.0265 - accuracy: 0.6405 - val_loss: 0.9945 - val_accuracy: 0.6536\n",
      "Epoch 3/50\n",
      "1407/1407 [==============================] - 214s 152ms/step - loss: 0.9467 - accuracy: 0.6679 - val_loss: 0.9452 - val_accuracy: 0.6691\n",
      "Epoch 4/50\n",
      "1407/1407 [==============================] - 204s 145ms/step - loss: 0.8974 - accuracy: 0.6835 - val_loss: 0.9044 - val_accuracy: 0.6809\n",
      "Epoch 5/50\n",
      "1407/1407 [==============================] - 203s 144ms/step - loss: 0.8579 - accuracy: 0.6967 - val_loss: 0.9392 - val_accuracy: 0.6715\n",
      "Epoch 6/50\n",
      "1407/1407 [==============================] - 199s 141ms/step - loss: 0.8268 - accuracy: 0.7088 - val_loss: 0.8902 - val_accuracy: 0.6870\n",
      "Epoch 7/50\n",
      "1407/1407 [==============================] - 208s 148ms/step - loss: 0.7932 - accuracy: 0.7193 - val_loss: 0.8912 - val_accuracy: 0.6876\n",
      "Epoch 8/50\n",
      "1407/1407 [==============================] - 209s 148ms/step - loss: 0.7704 - accuracy: 0.7292 - val_loss: 0.9021 - val_accuracy: 0.6849\n",
      "Epoch 9/50\n",
      "1407/1407 [==============================] - 210s 149ms/step - loss: 0.7500 - accuracy: 0.7348 - val_loss: 0.8425 - val_accuracy: 0.7097\n",
      "Epoch 10/50\n",
      "1407/1407 [==============================] - 207s 147ms/step - loss: 0.7329 - accuracy: 0.7401 - val_loss: 0.8616 - val_accuracy: 0.6940\n",
      "Epoch 11/50\n",
      "1407/1407 [==============================] - 190s 135ms/step - loss: 0.7117 - accuracy: 0.7470 - val_loss: 0.8215 - val_accuracy: 0.7131\n",
      "Epoch 12/50\n",
      "1407/1407 [==============================] - 179s 127ms/step - loss: 0.7051 - accuracy: 0.7480 - val_loss: 0.8240 - val_accuracy: 0.7106\n",
      "Epoch 13/50\n",
      "1407/1407 [==============================] - 176s 125ms/step - loss: 0.6774 - accuracy: 0.7599 - val_loss: 0.8394 - val_accuracy: 0.7101\n",
      "Epoch 14/50\n",
      "1407/1407 [==============================] - 178s 126ms/step - loss: 0.6628 - accuracy: 0.7650 - val_loss: 0.8238 - val_accuracy: 0.7088\n",
      "Epoch 15/50\n",
      "1407/1407 [==============================] - 175s 124ms/step - loss: 0.6472 - accuracy: 0.7699 - val_loss: 0.9241 - val_accuracy: 0.7000\n",
      "Epoch 16/50\n",
      "1407/1407 [==============================] - 176s 125ms/step - loss: 0.6461 - accuracy: 0.7703 - val_loss: 0.8312 - val_accuracy: 0.7162\n",
      "Epoch 17/50\n",
      "1407/1407 [==============================] - 176s 125ms/step - loss: 0.6213 - accuracy: 0.7782 - val_loss: 0.8843 - val_accuracy: 0.7038\n",
      "Epoch 18/50\n",
      "1407/1407 [==============================] - 174s 124ms/step - loss: 0.6619 - accuracy: 0.7648 - val_loss: 0.8533 - val_accuracy: 0.7058\n",
      "Epoch 19/50\n",
      "1407/1407 [==============================] - 175s 125ms/step - loss: 0.6040 - accuracy: 0.7850 - val_loss: 0.8299 - val_accuracy: 0.7168\n",
      "Epoch 20/50\n",
      "1407/1407 [==============================] - 178s 127ms/step - loss: 0.6112 - accuracy: 0.7829 - val_loss: 1.4598 - val_accuracy: 0.5117\n",
      "Epoch 21/50\n",
      "1407/1407 [==============================] - 176s 125ms/step - loss: 0.7000 - accuracy: 0.7490 - val_loss: 0.8909 - val_accuracy: 0.7015\n",
      "Epoch 22/50\n",
      "1407/1407 [==============================] - 182s 129ms/step - loss: 0.5804 - accuracy: 0.7917 - val_loss: 0.8382 - val_accuracy: 0.7160\n",
      "Epoch 23/50\n",
      "1407/1407 [==============================] - 180s 128ms/step - loss: 0.5570 - accuracy: 0.8007 - val_loss: 0.8002 - val_accuracy: 0.7248\n",
      "Epoch 24/50\n",
      "1407/1407 [==============================] - 178s 126ms/step - loss: 0.5582 - accuracy: 0.8009 - val_loss: 0.8367 - val_accuracy: 0.7151\n",
      "Epoch 25/50\n",
      "1407/1407 [==============================] - 177s 126ms/step - loss: 0.5606 - accuracy: 0.8000 - val_loss: 0.8702 - val_accuracy: 0.7145\n",
      "Epoch 26/50\n",
      "1407/1407 [==============================] - 176s 125ms/step - loss: 0.5501 - accuracy: 0.8025 - val_loss: 0.7941 - val_accuracy: 0.7324\n",
      "Epoch 27/50\n",
      "1407/1407 [==============================] - 179s 127ms/step - loss: 0.5513 - accuracy: 0.8022 - val_loss: 0.8941 - val_accuracy: 0.7115\n",
      "Epoch 28/50\n",
      "1407/1407 [==============================] - 179s 127ms/step - loss: 0.6282 - accuracy: 0.7755 - val_loss: 0.8586 - val_accuracy: 0.7082\n",
      "Epoch 29/50\n",
      "1407/1407 [==============================] - 176s 125ms/step - loss: 0.5507 - accuracy: 0.8028 - val_loss: 0.8062 - val_accuracy: 0.7267\n",
      "Epoch 30/50\n",
      "1407/1407 [==============================] - 176s 125ms/step - loss: 0.5202 - accuracy: 0.8127 - val_loss: 1.0859 - val_accuracy: 0.7131\n",
      "Epoch 31/50\n",
      "1407/1407 [==============================] - 176s 125ms/step - loss: 0.5155 - accuracy: 0.8146 - val_loss: 0.8392 - val_accuracy: 0.7218\n",
      "Epoch 32/50\n",
      "1407/1407 [==============================] - 182s 129ms/step - loss: 0.5558 - accuracy: 0.8020 - val_loss: 0.8163 - val_accuracy: 0.7240\n",
      "Epoch 33/50\n",
      "1407/1407 [==============================] - 176s 125ms/step - loss: 0.5180 - accuracy: 0.8139 - val_loss: 0.8671 - val_accuracy: 0.7088\n",
      "Epoch 34/50\n",
      "1407/1407 [==============================] - 178s 126ms/step - loss: 0.5106 - accuracy: 0.8161 - val_loss: 0.8811 - val_accuracy: 0.7091\n",
      "Epoch 35/50\n",
      "1407/1407 [==============================] - 175s 125ms/step - loss: 0.5009 - accuracy: 0.8208 - val_loss: 0.8345 - val_accuracy: 0.7288\n",
      "Epoch 36/50\n",
      "1407/1407 [==============================] - 177s 126ms/step - loss: 0.4960 - accuracy: 0.8215 - val_loss: 0.8776 - val_accuracy: 0.7161\n",
      "Epoch 37/50\n",
      "1407/1407 [==============================] - 175s 124ms/step - loss: 0.4944 - accuracy: 0.8231 - val_loss: 0.8571 - val_accuracy: 0.7228\n",
      "Epoch 38/50\n",
      "1407/1407 [==============================] - 173s 123ms/step - loss: 0.4855 - accuracy: 0.8265 - val_loss: 0.9501 - val_accuracy: 0.7102\n",
      "Epoch 39/50\n",
      "1407/1407 [==============================] - 176s 125ms/step - loss: 0.4673 - accuracy: 0.8320 - val_loss: 0.9302 - val_accuracy: 0.7124\n",
      "Epoch 40/50\n",
      "1407/1407 [==============================] - 175s 125ms/step - loss: 0.4897 - accuracy: 0.8252 - val_loss: 0.9562 - val_accuracy: 0.7073\n",
      "Epoch 41/50\n",
      "1407/1407 [==============================] - 175s 124ms/step - loss: 0.4716 - accuracy: 0.8304 - val_loss: 0.8571 - val_accuracy: 0.7249\n",
      "Epoch 42/50\n",
      "1407/1407 [==============================] - 179s 127ms/step - loss: 0.4583 - accuracy: 0.8363 - val_loss: 0.9999 - val_accuracy: 0.7057\n",
      "Epoch 43/50\n",
      "1407/1407 [==============================] - 182s 129ms/step - loss: 0.4457 - accuracy: 0.8391 - val_loss: 0.9283 - val_accuracy: 0.7128\n",
      "Epoch 44/50\n",
      "1407/1407 [==============================] - 180s 128ms/step - loss: 0.4544 - accuracy: 0.8379 - val_loss: 0.9153 - val_accuracy: 0.7153\n",
      "Epoch 45/50\n",
      "1407/1407 [==============================] - 181s 129ms/step - loss: 0.4514 - accuracy: 0.8377 - val_loss: 0.8985 - val_accuracy: 0.7164\n",
      "Epoch 46/50\n",
      "1407/1407 [==============================] - 180s 128ms/step - loss: 0.4574 - accuracy: 0.8351 - val_loss: 0.8777 - val_accuracy: 0.7147\n",
      "Epoch 47/50\n",
      "1407/1407 [==============================] - 180s 128ms/step - loss: 0.4467 - accuracy: 0.8394 - val_loss: 0.9716 - val_accuracy: 0.7099\n",
      "Epoch 48/50\n",
      "1407/1407 [==============================] - 179s 127ms/step - loss: 0.4139 - accuracy: 0.8506 - val_loss: 0.8908 - val_accuracy: 0.7223\n",
      "Epoch 49/50\n",
      "1407/1407 [==============================] - 182s 129ms/step - loss: 0.4123 - accuracy: 0.8510 - val_loss: 0.8952 - val_accuracy: 0.7161\n",
      "Epoch 50/50\n",
      "1407/1407 [==============================] - 179s 127ms/step - loss: 0.4024 - accuracy: 0.8547 - val_loss: 1.5884 - val_accuracy: 0.7042\n"
     ]
    }
   ],
   "source": [
    "base_model = EfficientNetB0(include_top=False, input_shape=(224, 224, 3), weights='imagenet')\n",
    "\n",
    "model = Sequential([\n",
    "    base_model,\n",
    "    GlobalAveragePooling2D(),\n",
    "    Dense(1024, activation='relu'),\n",
    "    Dense(10, activation='softmax')  # CINIC-10 has 10 classes\n",
    "])\n",
    "\n",
    "\n",
    "# Compile the model\n",
    "model.compile(optimizer='adam', \n",
    "              loss='categorical_crossentropy', \n",
    "              metrics=['accuracy'])\n",
    "\n",
    "# Train the model\n",
    "history = model.fit(\n",
    "    train_generator,\n",
    "    epochs=epochs,\n",
    "    validation_data=test_generator,\n",
    ")\n"
   ]
  },
  {
   "cell_type": "code",
   "execution_count": 36,
   "metadata": {},
   "outputs": [
    {
     "data": {
      "image/png": "[encoded data removed]",
      "text/plain": [
       "<Figure size 640x480 with 1 Axes>"
      ]
     },
     "metadata": {},
     "output_type": "display_data"
    }
   ],
   "source": [
    "plt.plot(history.history['accuracy'])\n",
    "plt.plot(history.history['val_accuracy'])\n",
    "plt.title('Model Accuracy')\n",
    "plt.xlabel('Epoch')\n",
    "plt.ylabel('Accuracy')\n",
    "plt.legend(['Train', 'Validation'], loc='upper left')\n",
    "plt.show()\n"
   ]
  },
  {
   "cell_type": "code",
   "execution_count": null,
   "metadata": {},
   "outputs": [],
   "source": []
  }
 ],
 "metadata": {
  "kernelspec": {
   "display_name": "Datascience",
   "language": "python",
   "name": "python3"
  },
  "language_info": {
   "codemirror_mode": {
    "name": "ipython",
    "version": 3
   },
   "file_extension": ".py",
   "mimetype": "text/x-python",
   "name": "python",
   "nbconvert_exporter": "python",
   "pygments_lexer": "ipython3",
   "version": "3.11.5"
  }
 },
 "nbformat": 4,
 "nbformat_minor": 2
}
