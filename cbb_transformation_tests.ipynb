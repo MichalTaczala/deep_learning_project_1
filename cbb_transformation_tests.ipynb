{
 "cells": [
  {
   "cell_type": "code",
   "execution_count": 1,
   "metadata": {},
   "outputs": [],
   "source": [
    "from tensorflow.keras import datasets, layers, models\n",
    "import matplotlib.pyplot as plt\n",
    "import numpy as np\n",
    "from tensorflow.keras.preprocessing.image import ImageDataGenerator\n",
    "import os\n",
    "\n",
    "import re"
   ]
  },
  {
   "cell_type": "code",
   "execution_count": 15,
   "metadata": {},
   "outputs": [],
   "source": [
    "# set parameters\n",
    "np.random.seed(0)\n",
    "classes = [\"airplane\", \"automobile\", \"bird\", \"cat\", \"deer\", \"dog\", \"frog\", \"horse\", \"ship\", \"truck\"]\n",
    "data_dir = \"data/cinic10\"\n",
    "\n",
    "batch_size = 512\n",
    "epochs = 25\n",
    "\n",
    "steps_per_epoch = 1e10\n",
    "steps_per_epoch = min(steps_per_epoch, 90000/batch_size)"
   ]
  },
  {
   "cell_type": "code",
   "execution_count": 3,
   "metadata": {},
   "outputs": [],
   "source": [
    "model = models.Sequential()\n",
    "model.add(layers.Conv2D(32, (3, 3), activation=\"relu\", input_shape=(32, 32, 3)))\n",
    "model.add(layers.MaxPooling2D((2, 2)))\n",
    "model.add(layers.Conv2D(64, (3, 3), activation=\"relu\"))\n",
    "model.add(layers.MaxPooling2D((2, 2)))\n",
    "model.add(layers.Conv2D(64, (3, 3), activation=\"relu\"))\n",
    "model.add(layers.Flatten())\n",
    "model.add(layers.Dense(64, activation=\"relu\"))\n",
    "model.add(layers.Dense(10, activation=\"softmax\"))\n",
    "\n",
    "\n",
    "model.compile(\n",
    "    optimizer=\"adam\", loss=\"categorical_crossentropy\", metrics=[\"accuracy\"]\n",
    ")"
   ]
  },
  {
   "cell_type": "code",
   "execution_count": 6,
   "metadata": {},
   "outputs": [
    {
     "name": "stdout",
     "output_type": "stream",
     "text": [
      "Found 90000 images belonging to 10 classes.\n",
      "Found 90000 images belonging to 10 classes.\n",
      "Epoch 1/15\n"
     ]
    },
    {
     "name": "stderr",
     "output_type": "stream",
     "text": [
      "2024-03-19 19:23:20.413774: I tensorflow/core/common_runtime/executor.cc:1197] [/device:CPU:0] (DEBUG INFO) Executor start aborting (this does not indicate an error and you can ignore this message): INVALID_ARGUMENT: You must feed a value for placeholder tensor 'Placeholder/_0' with dtype int32\n",
      "\t [[{{node Placeholder/_0}}]]\n"
     ]
    },
    {
     "name": "stdout",
     "output_type": "stream",
     "text": [
      "176/175 [==============================] - ETA: 0s - loss: 1.8560 - accuracy: 0.3117"
     ]
    },
    {
     "name": "stderr",
     "output_type": "stream",
     "text": [
      "2024-03-19 19:23:44.499633: I tensorflow/core/common_runtime/executor.cc:1197] [/device:CPU:0] (DEBUG INFO) Executor start aborting (this does not indicate an error and you can ignore this message): INVALID_ARGUMENT: You must feed a value for placeholder tensor 'Placeholder/_0' with dtype int32\n",
      "\t [[{{node Placeholder/_0}}]]\n"
     ]
    },
    {
     "name": "stdout",
     "output_type": "stream",
     "text": [
      "175/175 [==============================] - 48s 270ms/step - loss: 1.8560 - accuracy: 0.3117 - val_loss: 1.6836 - val_accuracy: 0.3792\n",
      "Epoch 2/15\n",
      "175/175 [==============================] - 41s 231ms/step - loss: 1.6087 - accuracy: 0.4093 - val_loss: 1.5694 - val_accuracy: 0.4271\n",
      "Epoch 3/15\n",
      "175/175 [==============================] - 40s 230ms/step - loss: 1.5232 - accuracy: 0.4457 - val_loss: 1.4812 - val_accuracy: 0.4585\n",
      "Epoch 4/15\n",
      "175/175 [==============================] - 40s 228ms/step - loss: 1.4483 - accuracy: 0.4774 - val_loss: 1.4432 - val_accuracy: 0.4774\n",
      "Epoch 5/15\n",
      "175/175 [==============================] - 42s 242ms/step - loss: 1.3973 - accuracy: 0.4956 - val_loss: 1.4034 - val_accuracy: 0.4948\n",
      "Epoch 6/15\n",
      "175/175 [==============================] - 44s 249ms/step - loss: 1.3498 - accuracy: 0.5129 - val_loss: 1.3570 - val_accuracy: 0.5064\n",
      "Epoch 7/15\n",
      "175/175 [==============================] - 41s 235ms/step - loss: 1.3203 - accuracy: 0.5239 - val_loss: 1.3290 - val_accuracy: 0.5183\n",
      "Epoch 8/15\n",
      "175/175 [==============================] - 41s 231ms/step - loss: 1.2876 - accuracy: 0.5386 - val_loss: 1.3306 - val_accuracy: 0.5242\n",
      "Epoch 9/15\n",
      "175/175 [==============================] - 41s 235ms/step - loss: 1.2579 - accuracy: 0.5495 - val_loss: 1.3158 - val_accuracy: 0.5292\n",
      "Epoch 10/15\n",
      "175/175 [==============================] - 41s 234ms/step - loss: 1.2352 - accuracy: 0.5575 - val_loss: 1.2915 - val_accuracy: 0.5361\n",
      "Epoch 11/15\n",
      "175/175 [==============================] - 41s 234ms/step - loss: 1.2122 - accuracy: 0.5676 - val_loss: 1.2317 - val_accuracy: 0.5592\n",
      "Epoch 12/15\n",
      "175/175 [==============================] - 41s 233ms/step - loss: 1.1904 - accuracy: 0.5761 - val_loss: 1.2401 - val_accuracy: 0.5548\n",
      "Epoch 13/15\n",
      "175/175 [==============================] - 43s 246ms/step - loss: 1.1664 - accuracy: 0.5852 - val_loss: 1.2107 - val_accuracy: 0.5668\n",
      "Epoch 14/15\n",
      "175/175 [==============================] - 41s 235ms/step - loss: 1.1548 - accuracy: 0.5886 - val_loss: 1.2130 - val_accuracy: 0.5659\n",
      "Epoch 15/15\n",
      "175/175 [==============================] - 43s 244ms/step - loss: 1.1319 - accuracy: 0.5970 - val_loss: 1.2115 - val_accuracy: 0.5692\n",
      "Found 90000 images belonging to 10 classes.\n",
      "Found 90000 images belonging to 10 classes.\n",
      "Epoch 1/15\n"
     ]
    },
    {
     "name": "stderr",
     "output_type": "stream",
     "text": [
      "2024-03-19 19:33:54.069004: I tensorflow/core/common_runtime/executor.cc:1197] [/device:CPU:0] (DEBUG INFO) Executor start aborting (this does not indicate an error and you can ignore this message): INVALID_ARGUMENT: You must feed a value for placeholder tensor 'Placeholder/_0' with dtype int32\n",
      "\t [[{{node Placeholder/_0}}]]\n"
     ]
    },
    {
     "name": "stdout",
     "output_type": "stream",
     "text": [
      "176/175 [==============================] - ETA: 0s - loss: 1.8472 - accuracy: 0.3197"
     ]
    },
    {
     "name": "stderr",
     "output_type": "stream",
     "text": [
      "2024-03-19 19:34:30.061981: I tensorflow/core/common_runtime/executor.cc:1197] [/device:CPU:0] (DEBUG INFO) Executor start aborting (this does not indicate an error and you can ignore this message): INVALID_ARGUMENT: You must feed a value for placeholder tensor 'Placeholder/_0' with dtype int32\n",
      "\t [[{{node Placeholder/_0}}]]\n"
     ]
    },
    {
     "name": "stdout",
     "output_type": "stream",
     "text": [
      "175/175 [==============================] - 56s 316ms/step - loss: 1.8472 - accuracy: 0.3197 - val_loss: 1.6684 - val_accuracy: 0.3831\n",
      "Epoch 2/15\n",
      "175/175 [==============================] - 54s 307ms/step - loss: 1.6127 - accuracy: 0.4081 - val_loss: 1.5916 - val_accuracy: 0.4121\n",
      "Epoch 3/15\n",
      "175/175 [==============================] - 64s 363ms/step - loss: 1.5356 - accuracy: 0.4390 - val_loss: 1.5180 - val_accuracy: 0.4508\n",
      "Epoch 4/15\n",
      "175/175 [==============================] - 58s 332ms/step - loss: 1.4722 - accuracy: 0.4647 - val_loss: 1.4701 - val_accuracy: 0.4718\n",
      "Epoch 5/15\n",
      "175/175 [==============================] - 54s 308ms/step - loss: 1.4189 - accuracy: 0.4861 - val_loss: 1.4277 - val_accuracy: 0.4859\n",
      "Epoch 6/15\n",
      "175/175 [==============================] - 54s 310ms/step - loss: 1.3813 - accuracy: 0.5007 - val_loss: 1.3640 - val_accuracy: 0.5110\n",
      "Epoch 7/15\n",
      "175/175 [==============================] - 54s 308ms/step - loss: 1.3481 - accuracy: 0.5135 - val_loss: 1.3294 - val_accuracy: 0.5234\n",
      "Epoch 8/15\n",
      "175/175 [==============================] - 56s 317ms/step - loss: 1.3180 - accuracy: 0.5270 - val_loss: 1.3639 - val_accuracy: 0.5139\n",
      "Epoch 9/15\n",
      "175/175 [==============================] - 54s 305ms/step - loss: 1.2945 - accuracy: 0.5377 - val_loss: 1.3218 - val_accuracy: 0.5271\n",
      "Epoch 10/15\n",
      "175/175 [==============================] - 55s 312ms/step - loss: 1.2721 - accuracy: 0.5443 - val_loss: 1.3250 - val_accuracy: 0.5302\n",
      "Epoch 11/15\n",
      "175/175 [==============================] - 54s 309ms/step - loss: 1.2461 - accuracy: 0.5533 - val_loss: 1.3261 - val_accuracy: 0.5256\n",
      "Epoch 12/15\n",
      "175/175 [==============================] - 53s 303ms/step - loss: 1.2253 - accuracy: 0.5621 - val_loss: 1.2400 - val_accuracy: 0.5556\n",
      "Epoch 13/15\n",
      "175/175 [==============================] - 54s 309ms/step - loss: 1.2080 - accuracy: 0.5689 - val_loss: 1.2333 - val_accuracy: 0.5600\n",
      "Epoch 14/15\n",
      "175/175 [==============================] - 54s 309ms/step - loss: 1.1899 - accuracy: 0.5759 - val_loss: 1.2239 - val_accuracy: 0.5645\n",
      "Epoch 15/15\n",
      "175/175 [==============================] - 54s 306ms/step - loss: 1.1788 - accuracy: 0.5785 - val_loss: 1.2071 - val_accuracy: 0.5692\n",
      "Found 90000 images belonging to 10 classes.\n",
      "Found 90000 images belonging to 10 classes.\n",
      "Epoch 1/15\n"
     ]
    },
    {
     "name": "stderr",
     "output_type": "stream",
     "text": [
      "2024-03-19 19:47:47.739329: I tensorflow/core/common_runtime/executor.cc:1197] [/device:CPU:0] (DEBUG INFO) Executor start aborting (this does not indicate an error and you can ignore this message): INVALID_ARGUMENT: You must feed a value for placeholder tensor 'Placeholder/_0' with dtype int32\n",
      "\t [[{{node Placeholder/_0}}]]\n"
     ]
    },
    {
     "name": "stdout",
     "output_type": "stream",
     "text": [
      "176/175 [==============================] - ETA: 0s - loss: 1.8305 - accuracy: 0.3239"
     ]
    },
    {
     "name": "stderr",
     "output_type": "stream",
     "text": [
      "2024-03-19 19:48:24.577493: I tensorflow/core/common_runtime/executor.cc:1197] [/device:CPU:0] (DEBUG INFO) Executor start aborting (this does not indicate an error and you can ignore this message): INVALID_ARGUMENT: You must feed a value for placeholder tensor 'Placeholder/_0' with dtype int32\n",
      "\t [[{{node Placeholder/_0}}]]\n"
     ]
    },
    {
     "name": "stdout",
     "output_type": "stream",
     "text": [
      "175/175 [==============================] - 56s 317ms/step - loss: 1.8305 - accuracy: 0.3239 - val_loss: 1.6764 - val_accuracy: 0.3805\n",
      "Epoch 2/15\n",
      "175/175 [==============================] - 53s 304ms/step - loss: 1.6198 - accuracy: 0.4069 - val_loss: 1.6228 - val_accuracy: 0.4138\n",
      "Epoch 3/15\n",
      "175/175 [==============================] - 55s 310ms/step - loss: 1.5462 - accuracy: 0.4367 - val_loss: 1.5987 - val_accuracy: 0.4286\n",
      "Epoch 4/15\n",
      "175/175 [==============================] - 55s 315ms/step - loss: 1.4877 - accuracy: 0.4604 - val_loss: 1.4325 - val_accuracy: 0.4761\n",
      "Epoch 5/15\n",
      "175/175 [==============================] - 54s 310ms/step - loss: 1.4377 - accuracy: 0.4802 - val_loss: 1.4048 - val_accuracy: 0.4882\n",
      "Epoch 6/15\n",
      "175/175 [==============================] - 62s 354ms/step - loss: 1.4025 - accuracy: 0.4943 - val_loss: 1.3558 - val_accuracy: 0.5079\n",
      "Epoch 7/15\n",
      "175/175 [==============================] - 55s 314ms/step - loss: 1.3572 - accuracy: 0.5128 - val_loss: 1.3796 - val_accuracy: 0.5089\n",
      "Epoch 8/15\n",
      "175/175 [==============================] - 53s 304ms/step - loss: 1.3411 - accuracy: 0.5191 - val_loss: 1.3166 - val_accuracy: 0.5277\n",
      "Epoch 9/15\n",
      "175/175 [==============================] - 54s 308ms/step - loss: 1.3134 - accuracy: 0.5281 - val_loss: 1.3211 - val_accuracy: 0.5264\n",
      "Epoch 10/15\n",
      "175/175 [==============================] - 66s 377ms/step - loss: 1.2899 - accuracy: 0.5372 - val_loss: 1.2738 - val_accuracy: 0.5419\n",
      "Epoch 11/15\n",
      "175/175 [==============================] - 57s 325ms/step - loss: 1.2739 - accuracy: 0.5441 - val_loss: 1.3108 - val_accuracy: 0.5315\n",
      "Epoch 12/15\n",
      "175/175 [==============================] - 57s 322ms/step - loss: 1.2519 - accuracy: 0.5522 - val_loss: 1.2544 - val_accuracy: 0.5537\n",
      "Epoch 13/15\n",
      "175/175 [==============================] - 60s 343ms/step - loss: 1.2390 - accuracy: 0.5576 - val_loss: 1.2555 - val_accuracy: 0.5515\n",
      "Epoch 14/15\n",
      "175/175 [==============================] - 55s 314ms/step - loss: 1.2186 - accuracy: 0.5643 - val_loss: 1.2845 - val_accuracy: 0.5462\n",
      "Epoch 15/15\n",
      "175/175 [==============================] - 55s 314ms/step - loss: 1.2094 - accuracy: 0.5679 - val_loss: 1.2181 - val_accuracy: 0.5685\n",
      "Found 90000 images belonging to 10 classes.\n",
      "Found 90000 images belonging to 10 classes.\n",
      "Epoch 1/15\n"
     ]
    },
    {
     "name": "stderr",
     "output_type": "stream",
     "text": [
      "2024-03-19 20:02:02.340613: I tensorflow/core/common_runtime/executor.cc:1197] [/device:CPU:0] (DEBUG INFO) Executor start aborting (this does not indicate an error and you can ignore this message): INVALID_ARGUMENT: You must feed a value for placeholder tensor 'Placeholder/_0' with dtype int32\n",
      "\t [[{{node Placeholder/_0}}]]\n"
     ]
    },
    {
     "name": "stdout",
     "output_type": "stream",
     "text": [
      "176/175 [==============================] - ETA: 0s - loss: 1.8741 - accuracy: 0.3073"
     ]
    },
    {
     "name": "stderr",
     "output_type": "stream",
     "text": [
      "2024-03-19 20:02:38.331732: I tensorflow/core/common_runtime/executor.cc:1197] [/device:CPU:0] (DEBUG INFO) Executor start aborting (this does not indicate an error and you can ignore this message): INVALID_ARGUMENT: You must feed a value for placeholder tensor 'Placeholder/_0' with dtype int32\n",
      "\t [[{{node Placeholder/_0}}]]\n"
     ]
    },
    {
     "name": "stdout",
     "output_type": "stream",
     "text": [
      "175/175 [==============================] - 56s 316ms/step - loss: 1.8741 - accuracy: 0.3073 - val_loss: 1.6712 - val_accuracy: 0.3813\n",
      "Epoch 2/15\n",
      "175/175 [==============================] - 58s 332ms/step - loss: 1.6545 - accuracy: 0.3937 - val_loss: 1.5960 - val_accuracy: 0.4128\n",
      "Epoch 3/15\n",
      "175/175 [==============================] - 58s 333ms/step - loss: 1.5937 - accuracy: 0.4177 - val_loss: 1.5525 - val_accuracy: 0.4348\n",
      "Epoch 4/15\n",
      "175/175 [==============================] - 58s 327ms/step - loss: 1.5291 - accuracy: 0.4434 - val_loss: 1.5034 - val_accuracy: 0.4567\n",
      "Epoch 5/15\n",
      "175/175 [==============================] - 64s 365ms/step - loss: 1.4955 - accuracy: 0.4586 - val_loss: 1.4510 - val_accuracy: 0.4722\n",
      "Epoch 6/15\n",
      "175/175 [==============================] - 60s 344ms/step - loss: 1.4549 - accuracy: 0.4750 - val_loss: 1.4797 - val_accuracy: 0.4722\n",
      "Epoch 7/15\n",
      "175/175 [==============================] - 57s 324ms/step - loss: 1.4320 - accuracy: 0.4837 - val_loss: 1.3905 - val_accuracy: 0.5000\n",
      "Epoch 8/15\n",
      "175/175 [==============================] - 59s 335ms/step - loss: 1.4095 - accuracy: 0.4925 - val_loss: 1.3768 - val_accuracy: 0.5071\n",
      "Epoch 9/15\n",
      "175/175 [==============================] - 55s 313ms/step - loss: 1.3772 - accuracy: 0.5053 - val_loss: 1.3935 - val_accuracy: 0.5060\n",
      "Epoch 10/15\n",
      "175/175 [==============================] - 55s 313ms/step - loss: 1.3630 - accuracy: 0.5087 - val_loss: 1.3677 - val_accuracy: 0.5127\n",
      "Epoch 11/15\n",
      "175/175 [==============================] - 59s 335ms/step - loss: 1.3434 - accuracy: 0.5166 - val_loss: 1.3253 - val_accuracy: 0.5260\n",
      "Epoch 12/15\n",
      "175/175 [==============================] - 56s 317ms/step - loss: 1.3181 - accuracy: 0.5264 - val_loss: 1.2982 - val_accuracy: 0.5334\n",
      "Epoch 13/15\n",
      "175/175 [==============================] - 54s 309ms/step - loss: 1.3050 - accuracy: 0.5319 - val_loss: 1.3510 - val_accuracy: 0.5234\n",
      "Epoch 14/15\n",
      "175/175 [==============================] - 60s 340ms/step - loss: 1.2891 - accuracy: 0.5374 - val_loss: 1.3302 - val_accuracy: 0.5296\n",
      "Epoch 15/15\n",
      "175/175 [==============================] - 55s 311ms/step - loss: 1.2783 - accuracy: 0.5398 - val_loss: 1.2570 - val_accuracy: 0.5515\n"
     ]
    }
   ],
   "source": [
    "rotation_ranges = [0, 10, 20, 30]\n",
    "ress = []\n",
    "for rotation in rotation_ranges:\n",
    "    datagenTrain = ImageDataGenerator(\n",
    "    rescale=1.0 / 255,\n",
    "    rotation_range=rotation,\n",
    "    \n",
    "    )\n",
    "    datagenTest = ImageDataGenerator(rescale=1.0 / 255)\n",
    "    train_generator = datagenTrain.flow_from_directory(\n",
    "        data_dir + \"/train\",\n",
    "        target_size=(32, 32),  # Resize images to this size\n",
    "        batch_size=batch_size,  # Number of images to load at each iteration\n",
    "        class_mode=\"categorical\",\n",
    "    )  # Type of classification ('binary' or 'categorical')\n",
    "\n",
    "    test_generator = datagenTest.flow_from_directory(\n",
    "        data_dir + \"/test\",\n",
    "        target_size=(32, 32),\n",
    "        batch_size=batch_size,\n",
    "        class_mode=\"categorical\",\n",
    "    )\n",
    "    model = models.Sequential()\n",
    "    model.add(layers.Conv2D(32, (3, 3), activation=\"relu\", input_shape=(32, 32, 3)))\n",
    "    model.add(layers.MaxPooling2D((2, 2)))\n",
    "    model.add(layers.Conv2D(64, (3, 3), activation=\"relu\"))\n",
    "    model.add(layers.MaxPooling2D((2, 2)))\n",
    "    model.add(layers.Conv2D(64, (3, 3), activation=\"relu\"))\n",
    "    model.add(layers.Flatten())\n",
    "    model.add(layers.Dense(64, activation=\"relu\"))\n",
    "    model.add(layers.Dense(10, activation=\"softmax\"))\n",
    "\n",
    "\n",
    "    model.compile(\n",
    "        optimizer=\"adam\", loss=\"categorical_crossentropy\", metrics=[\"accuracy\"]\n",
    "    )\n",
    "    history = model.fit(\n",
    "    train_generator,\n",
    "    steps_per_epoch=steps_per_epoch,\n",
    "    epochs=epochs,\n",
    "    validation_data=test_generator,\n",
    "    validation_steps=steps_per_epoch,\n",
    "    )\n",
    "    ress.append(history)\n",
    "\n"
   ]
  },
  {
   "cell_type": "code",
   "execution_count": 7,
   "metadata": {},
   "outputs": [
    {
     "data": {
      "text/plain": [
       "4"
      ]
     },
     "execution_count": 7,
     "metadata": {},
     "output_type": "execute_result"
    }
   ],
   "source": [
    "len(ress)"
   ]
  },
  {
   "cell_type": "code",
   "execution_count": 10,
   "metadata": {},
   "outputs": [
    {
     "data": {
      "text/plain": [
       "Text(0, 0.5, 'Validation accuracy')"
      ]
     },
     "execution_count": 10,
     "metadata": {},
     "output_type": "execute_result"
    },
    {
     "data": {
      "image/png": "[encoded data removed]",
      "text/plain": [
       "<Figure size 640x480 with 1 Axes>"
      ]
     },
     "metadata": {},
     "output_type": "display_data"
    }
   ],
   "source": [
    "for i, res in enumerate(ress):\n",
    "    plt.plot(res.history[\"val_accuracy\"], label=f\"rotation={rotation_ranges[i]}\")\n",
    "plt.legend()\n",
    "plt.xlabel(\"Epochs\")\n",
    "plt.ylabel(\"Validation accuracy\")"
   ]
  },
  {
   "cell_type": "code",
   "execution_count": 11,
   "metadata": {},
   "outputs": [
    {
     "name": "stdout",
     "output_type": "stream",
     "text": [
      "Found 90000 images belonging to 10 classes.\n",
      "Found 90000 images belonging to 10 classes.\n",
      "Epoch 1/15\n"
     ]
    },
    {
     "name": "stderr",
     "output_type": "stream",
     "text": [
      "2024-03-19 20:21:40.327052: I tensorflow/core/common_runtime/executor.cc:1197] [/device:CPU:0] (DEBUG INFO) Executor start aborting (this does not indicate an error and you can ignore this message): INVALID_ARGUMENT: You must feed a value for placeholder tensor 'Placeholder/_0' with dtype int32\n",
      "\t [[{{node Placeholder/_0}}]]\n"
     ]
    },
    {
     "name": "stdout",
     "output_type": "stream",
     "text": [
      "176/175 [==============================] - ETA: 0s - loss: 1.8264 - accuracy: 0.3225"
     ]
    },
    {
     "name": "stderr",
     "output_type": "stream",
     "text": [
      "2024-03-19 20:22:02.293534: I tensorflow/core/common_runtime/executor.cc:1197] [/device:CPU:0] (DEBUG INFO) Executor start aborting (this does not indicate an error and you can ignore this message): INVALID_ARGUMENT: You must feed a value for placeholder tensor 'Placeholder/_0' with dtype int32\n",
      "\t [[{{node Placeholder/_0}}]]\n"
     ]
    },
    {
     "name": "stdout",
     "output_type": "stream",
     "text": [
      "175/175 [==============================] - 42s 237ms/step - loss: 1.8264 - accuracy: 0.3225 - val_loss: 1.6648 - val_accuracy: 0.3849\n",
      "Epoch 2/15\n",
      "175/175 [==============================] - 44s 248ms/step - loss: 1.5970 - accuracy: 0.4130 - val_loss: 1.5633 - val_accuracy: 0.4270\n",
      "Epoch 3/15\n",
      "175/175 [==============================] - 41s 236ms/step - loss: 1.5003 - accuracy: 0.4529 - val_loss: 1.4822 - val_accuracy: 0.4605\n",
      "Epoch 4/15\n",
      "175/175 [==============================] - 43s 245ms/step - loss: 1.4326 - accuracy: 0.4806 - val_loss: 1.4057 - val_accuracy: 0.4922\n",
      "Epoch 5/15\n",
      "175/175 [==============================] - 40s 230ms/step - loss: 1.3727 - accuracy: 0.5050 - val_loss: 1.3805 - val_accuracy: 0.5010\n",
      "Epoch 6/15\n",
      "175/175 [==============================] - 41s 236ms/step - loss: 1.3279 - accuracy: 0.5216 - val_loss: 1.3537 - val_accuracy: 0.5097\n",
      "Epoch 7/15\n",
      "175/175 [==============================] - 41s 236ms/step - loss: 1.2898 - accuracy: 0.5368 - val_loss: 1.3026 - val_accuracy: 0.5325\n",
      "Epoch 8/15\n",
      "175/175 [==============================] - 42s 241ms/step - loss: 1.2650 - accuracy: 0.5456 - val_loss: 1.2964 - val_accuracy: 0.5337\n",
      "Epoch 9/15\n",
      "175/175 [==============================] - 43s 244ms/step - loss: 1.2305 - accuracy: 0.5591 - val_loss: 1.2528 - val_accuracy: 0.5531\n",
      "Epoch 10/15\n",
      "175/175 [==============================] - 42s 239ms/step - loss: 1.2040 - accuracy: 0.5696 - val_loss: 1.2479 - val_accuracy: 0.5544\n",
      "Epoch 11/15\n",
      "175/175 [==============================] - 45s 254ms/step - loss: 1.1770 - accuracy: 0.5790 - val_loss: 1.2315 - val_accuracy: 0.5620\n",
      "Epoch 12/15\n",
      "175/175 [==============================] - 50s 286ms/step - loss: 1.1644 - accuracy: 0.5832 - val_loss: 1.2055 - val_accuracy: 0.5682\n",
      "Epoch 13/15\n",
      "175/175 [==============================] - 48s 273ms/step - loss: 1.1346 - accuracy: 0.5949 - val_loss: 1.2459 - val_accuracy: 0.5556\n",
      "Epoch 14/15\n",
      "175/175 [==============================] - 52s 297ms/step - loss: 1.1167 - accuracy: 0.6023 - val_loss: 1.1940 - val_accuracy: 0.5758\n",
      "Epoch 15/15\n",
      "175/175 [==============================] - 52s 295ms/step - loss: 1.1053 - accuracy: 0.6057 - val_loss: 1.1670 - val_accuracy: 0.5837\n",
      "Found 90000 images belonging to 10 classes.\n",
      "Found 90000 images belonging to 10 classes.\n",
      "Epoch 1/15\n"
     ]
    },
    {
     "name": "stderr",
     "output_type": "stream",
     "text": [
      "2024-03-19 20:32:52.533965: I tensorflow/core/common_runtime/executor.cc:1197] [/device:CPU:0] (DEBUG INFO) Executor start aborting (this does not indicate an error and you can ignore this message): INVALID_ARGUMENT: You must feed a value for placeholder tensor 'Placeholder/_0' with dtype int32\n",
      "\t [[{{node Placeholder/_0}}]]\n"
     ]
    },
    {
     "name": "stdout",
     "output_type": "stream",
     "text": [
      "176/175 [==============================] - ETA: 0s - loss: 1.8519 - accuracy: 0.3098"
     ]
    },
    {
     "name": "stderr",
     "output_type": "stream",
     "text": [
      "2024-03-19 20:33:31.304991: I tensorflow/core/common_runtime/executor.cc:1197] [/device:CPU:0] (DEBUG INFO) Executor start aborting (this does not indicate an error and you can ignore this message): INVALID_ARGUMENT: You must feed a value for placeholder tensor 'Placeholder/_0' with dtype int32\n",
      "\t [[{{node Placeholder/_0}}]]\n"
     ]
    },
    {
     "name": "stdout",
     "output_type": "stream",
     "text": [
      "175/175 [==============================] - 65s 369ms/step - loss: 1.8519 - accuracy: 0.3098 - val_loss: 1.6997 - val_accuracy: 0.3680\n",
      "Epoch 2/15\n",
      "175/175 [==============================] - 57s 326ms/step - loss: 1.6007 - accuracy: 0.4104 - val_loss: 1.5691 - val_accuracy: 0.4242\n",
      "Epoch 3/15\n",
      "175/175 [==============================] - 58s 328ms/step - loss: 1.5062 - accuracy: 0.4502 - val_loss: 1.4614 - val_accuracy: 0.4700\n",
      "Epoch 4/15\n",
      "175/175 [==============================] - 58s 330ms/step - loss: 1.4260 - accuracy: 0.4829 - val_loss: 1.4125 - val_accuracy: 0.4882\n",
      "Epoch 5/15\n",
      "175/175 [==============================] - 60s 341ms/step - loss: 1.3663 - accuracy: 0.5072 - val_loss: 1.3885 - val_accuracy: 0.5048\n",
      "Epoch 6/15\n",
      "175/175 [==============================] - 60s 345ms/step - loss: 1.3288 - accuracy: 0.5217 - val_loss: 1.3248 - val_accuracy: 0.5221\n",
      "Epoch 7/15\n",
      "175/175 [==============================] - 64s 362ms/step - loss: 1.2855 - accuracy: 0.5386 - val_loss: 1.2913 - val_accuracy: 0.5370\n",
      "Epoch 8/15\n",
      "175/175 [==============================] - 61s 347ms/step - loss: 1.2528 - accuracy: 0.5518 - val_loss: 1.3007 - val_accuracy: 0.5358\n",
      "Epoch 9/15\n",
      "175/175 [==============================] - 62s 351ms/step - loss: 1.2265 - accuracy: 0.5604 - val_loss: 1.2717 - val_accuracy: 0.5459\n",
      "Epoch 10/15\n",
      "175/175 [==============================] - 67s 374ms/step - loss: 1.2097 - accuracy: 0.5673 - val_loss: 1.2322 - val_accuracy: 0.5605\n",
      "Epoch 11/15\n",
      "175/175 [==============================] - 57s 325ms/step - loss: 1.1785 - accuracy: 0.5797 - val_loss: 1.2380 - val_accuracy: 0.5584\n",
      "Epoch 12/15\n",
      "175/175 [==============================] - 57s 322ms/step - loss: 1.1622 - accuracy: 0.5867 - val_loss: 1.2322 - val_accuracy: 0.5605\n",
      "Epoch 13/15\n",
      "175/175 [==============================] - 58s 329ms/step - loss: 1.1451 - accuracy: 0.5917 - val_loss: 1.2275 - val_accuracy: 0.5654\n",
      "Epoch 14/15\n",
      "175/175 [==============================] - 58s 330ms/step - loss: 1.1296 - accuracy: 0.5981 - val_loss: 1.2125 - val_accuracy: 0.5674\n",
      "Epoch 15/15\n",
      "175/175 [==============================] - 59s 334ms/step - loss: 1.1165 - accuracy: 0.6032 - val_loss: 1.1979 - val_accuracy: 0.5698\n",
      "Found 90000 images belonging to 10 classes.\n",
      "Found 90000 images belonging to 10 classes.\n",
      "Epoch 1/15\n"
     ]
    },
    {
     "name": "stderr",
     "output_type": "stream",
     "text": [
      "2024-03-19 20:47:58.012335: I tensorflow/core/common_runtime/executor.cc:1197] [/device:CPU:0] (DEBUG INFO) Executor start aborting (this does not indicate an error and you can ignore this message): INVALID_ARGUMENT: You must feed a value for placeholder tensor 'Placeholder/_0' with dtype int32\n",
      "\t [[{{node Placeholder/_0}}]]\n"
     ]
    },
    {
     "name": "stdout",
     "output_type": "stream",
     "text": [
      "176/175 [==============================] - ETA: 0s - loss: 1.8437 - accuracy: 0.3172"
     ]
    },
    {
     "name": "stderr",
     "output_type": "stream",
     "text": [
      "2024-03-19 20:48:37.588102: I tensorflow/core/common_runtime/executor.cc:1197] [/device:CPU:0] (DEBUG INFO) Executor start aborting (this does not indicate an error and you can ignore this message): INVALID_ARGUMENT: You must feed a value for placeholder tensor 'Placeholder/_0' with dtype int32\n",
      "\t [[{{node Placeholder/_0}}]]\n"
     ]
    },
    {
     "name": "stdout",
     "output_type": "stream",
     "text": [
      "175/175 [==============================] - 60s 338ms/step - loss: 1.8437 - accuracy: 0.3172 - val_loss: 1.6689 - val_accuracy: 0.3819\n",
      "Epoch 2/15\n",
      "175/175 [==============================] - 59s 337ms/step - loss: 1.5888 - accuracy: 0.4167 - val_loss: 1.5265 - val_accuracy: 0.4453\n",
      "Epoch 3/15\n",
      "175/175 [==============================] - 57s 325ms/step - loss: 1.4745 - accuracy: 0.4628 - val_loss: 1.4410 - val_accuracy: 0.4784\n",
      "Epoch 4/15\n",
      "175/175 [==============================] - 65s 369ms/step - loss: 1.4026 - accuracy: 0.4939 - val_loss: 1.3841 - val_accuracy: 0.4994\n",
      "Epoch 5/15\n",
      "175/175 [==============================] - 59s 336ms/step - loss: 1.3483 - accuracy: 0.5150 - val_loss: 1.3286 - val_accuracy: 0.5228\n",
      "Epoch 6/15\n",
      "175/175 [==============================] - 58s 333ms/step - loss: 1.3044 - accuracy: 0.5315 - val_loss: 1.3377 - val_accuracy: 0.5160\n",
      "Epoch 7/15\n",
      "175/175 [==============================] - 59s 336ms/step - loss: 1.2741 - accuracy: 0.5441 - val_loss: 1.3035 - val_accuracy: 0.5299\n",
      "Epoch 8/15\n",
      "175/175 [==============================] - 60s 340ms/step - loss: 1.2328 - accuracy: 0.5594 - val_loss: 1.2516 - val_accuracy: 0.5516\n",
      "Epoch 9/15\n",
      "175/175 [==============================] - 61s 347ms/step - loss: 1.2060 - accuracy: 0.5686 - val_loss: 1.2363 - val_accuracy: 0.5586\n",
      "Epoch 10/15\n",
      "175/175 [==============================] - 67s 382ms/step - loss: 1.1843 - accuracy: 0.5782 - val_loss: 1.2490 - val_accuracy: 0.5543\n",
      "Epoch 11/15\n",
      "175/175 [==============================] - 59s 337ms/step - loss: 1.1663 - accuracy: 0.5830 - val_loss: 1.2091 - val_accuracy: 0.5681\n",
      "Epoch 12/15\n",
      "175/175 [==============================] - 58s 329ms/step - loss: 1.1391 - accuracy: 0.5935 - val_loss: 1.2096 - val_accuracy: 0.5672\n",
      "Epoch 13/15\n",
      "175/175 [==============================] - 60s 341ms/step - loss: 1.1245 - accuracy: 0.5997 - val_loss: 1.1871 - val_accuracy: 0.5764\n",
      "Epoch 14/15\n",
      "175/175 [==============================] - 59s 338ms/step - loss: 1.1006 - accuracy: 0.6084 - val_loss: 1.1733 - val_accuracy: 0.5799\n",
      "Epoch 15/15\n",
      "175/175 [==============================] - 57s 322ms/step - loss: 1.0885 - accuracy: 0.6134 - val_loss: 1.1663 - val_accuracy: 0.5839\n",
      "Found 90000 images belonging to 10 classes.\n",
      "Found 90000 images belonging to 10 classes.\n",
      "Epoch 1/15\n"
     ]
    },
    {
     "name": "stderr",
     "output_type": "stream",
     "text": [
      "2024-03-19 21:03:01.374280: I tensorflow/core/common_runtime/executor.cc:1197] [/device:CPU:0] (DEBUG INFO) Executor start aborting (this does not indicate an error and you can ignore this message): INVALID_ARGUMENT: You must feed a value for placeholder tensor 'Placeholder/_0' with dtype int32\n",
      "\t [[{{node Placeholder/_0}}]]\n"
     ]
    },
    {
     "name": "stdout",
     "output_type": "stream",
     "text": [
      "176/175 [==============================] - ETA: 0s - loss: 1.8514 - accuracy: 0.3135"
     ]
    },
    {
     "name": "stderr",
     "output_type": "stream",
     "text": [
      "2024-03-19 21:03:44.545339: I tensorflow/core/common_runtime/executor.cc:1197] [/device:CPU:0] (DEBUG INFO) Executor start aborting (this does not indicate an error and you can ignore this message): INVALID_ARGUMENT: You must feed a value for placeholder tensor 'Placeholder/_0' with dtype int32\n",
      "\t [[{{node Placeholder/_0}}]]\n"
     ]
    },
    {
     "name": "stdout",
     "output_type": "stream",
     "text": [
      "175/175 [==============================] - 63s 358ms/step - loss: 1.8514 - accuracy: 0.3135 - val_loss: 1.6625 - val_accuracy: 0.3865\n",
      "Epoch 2/15\n",
      "175/175 [==============================] - 64s 362ms/step - loss: 1.5995 - accuracy: 0.4138 - val_loss: 1.5515 - val_accuracy: 0.4299\n",
      "Epoch 3/15\n",
      "175/175 [==============================] - 59s 337ms/step - loss: 1.4982 - accuracy: 0.4522 - val_loss: 1.4570 - val_accuracy: 0.4711\n",
      "Epoch 4/15\n",
      "175/175 [==============================] - 62s 354ms/step - loss: 1.4311 - accuracy: 0.4804 - val_loss: 1.4043 - val_accuracy: 0.4937\n",
      "Epoch 5/15\n",
      "175/175 [==============================] - 61s 350ms/step - loss: 1.3840 - accuracy: 0.5004 - val_loss: 1.3670 - val_accuracy: 0.5076\n",
      "Epoch 6/15\n",
      "175/175 [==============================] - 60s 339ms/step - loss: 1.3381 - accuracy: 0.5168 - val_loss: 1.3910 - val_accuracy: 0.5048\n",
      "Epoch 7/15\n",
      "175/175 [==============================] - 60s 341ms/step - loss: 1.3069 - accuracy: 0.5300 - val_loss: 1.3157 - val_accuracy: 0.5273\n",
      "Epoch 8/15\n",
      "175/175 [==============================] - 57s 326ms/step - loss: 1.2713 - accuracy: 0.5432 - val_loss: 1.3161 - val_accuracy: 0.5281\n",
      "Epoch 9/15\n",
      "175/175 [==============================] - 76s 433ms/step - loss: 1.2481 - accuracy: 0.5517 - val_loss: 1.2898 - val_accuracy: 0.5404\n",
      "Epoch 10/15\n",
      "175/175 [==============================] - 55s 313ms/step - loss: 1.2232 - accuracy: 0.5609 - val_loss: 1.2462 - val_accuracy: 0.5509\n",
      "Epoch 11/15\n",
      "175/175 [==============================] - 57s 325ms/step - loss: 1.1979 - accuracy: 0.5712 - val_loss: 1.2634 - val_accuracy: 0.5459\n",
      "Epoch 12/15\n",
      "175/175 [==============================] - 63s 358ms/step - loss: 1.1796 - accuracy: 0.5783 - val_loss: 1.2116 - val_accuracy: 0.5664\n",
      "Epoch 13/15\n",
      "175/175 [==============================] - 58s 330ms/step - loss: 1.1622 - accuracy: 0.5836 - val_loss: 1.2351 - val_accuracy: 0.5636\n",
      "Epoch 14/15\n",
      "175/175 [==============================] - 73s 417ms/step - loss: 1.1419 - accuracy: 0.5922 - val_loss: 1.1847 - val_accuracy: 0.5777\n",
      "Epoch 15/15\n",
      "175/175 [==============================] - 69s 394ms/step - loss: 1.1222 - accuracy: 0.5991 - val_loss: 1.2477 - val_accuracy: 0.5584\n",
      "Found 90000 images belonging to 10 classes.\n",
      "Found 90000 images belonging to 10 classes.\n",
      "Epoch 1/15\n"
     ]
    },
    {
     "name": "stderr",
     "output_type": "stream",
     "text": [
      "2024-03-19 21:18:45.239519: I tensorflow/core/common_runtime/executor.cc:1197] [/device:CPU:0] (DEBUG INFO) Executor start aborting (this does not indicate an error and you can ignore this message): INVALID_ARGUMENT: You must feed a value for placeholder tensor 'Placeholder/_0' with dtype int32\n",
      "\t [[{{node Placeholder/_0}}]]\n"
     ]
    },
    {
     "name": "stdout",
     "output_type": "stream",
     "text": [
      "176/175 [==============================] - ETA: 0s - loss: 1.8326 - accuracy: 0.3204"
     ]
    },
    {
     "name": "stderr",
     "output_type": "stream",
     "text": [
      "2024-03-19 21:19:29.309455: I tensorflow/core/common_runtime/executor.cc:1197] [/device:CPU:0] (DEBUG INFO) Executor start aborting (this does not indicate an error and you can ignore this message): INVALID_ARGUMENT: You must feed a value for placeholder tensor 'Placeholder/_0' with dtype int32\n",
      "\t [[{{node Placeholder/_0}}]]\n"
     ]
    },
    {
     "name": "stdout",
     "output_type": "stream",
     "text": [
      "175/175 [==============================] - 64s 365ms/step - loss: 1.8326 - accuracy: 0.3204 - val_loss: 1.7226 - val_accuracy: 0.3615\n",
      "Epoch 2/15\n",
      "175/175 [==============================] - 55s 312ms/step - loss: 1.5989 - accuracy: 0.4120 - val_loss: 1.5445 - val_accuracy: 0.4385\n",
      "Epoch 3/15\n",
      "175/175 [==============================] - 60s 343ms/step - loss: 1.4948 - accuracy: 0.4550 - val_loss: 1.4725 - val_accuracy: 0.4674\n",
      "Epoch 4/15\n",
      "175/175 [==============================] - 59s 334ms/step - loss: 1.4260 - accuracy: 0.4840 - val_loss: 1.4008 - val_accuracy: 0.4892\n",
      "Epoch 5/15\n",
      "175/175 [==============================] - 55s 311ms/step - loss: 1.3686 - accuracy: 0.5058 - val_loss: 1.3905 - val_accuracy: 0.4981\n",
      "Epoch 6/15\n",
      "175/175 [==============================] - 53s 302ms/step - loss: 1.3306 - accuracy: 0.5203 - val_loss: 1.3357 - val_accuracy: 0.5179\n",
      "Epoch 7/15\n",
      "175/175 [==============================] - 65s 367ms/step - loss: 1.2923 - accuracy: 0.5339 - val_loss: 1.3366 - val_accuracy: 0.5194\n",
      "Epoch 8/15\n",
      "175/175 [==============================] - 56s 319ms/step - loss: 1.2661 - accuracy: 0.5451 - val_loss: 1.3012 - val_accuracy: 0.5319\n",
      "Epoch 9/15\n",
      "175/175 [==============================] - 60s 341ms/step - loss: 1.2314 - accuracy: 0.5589 - val_loss: 1.2626 - val_accuracy: 0.5476\n",
      "Epoch 10/15\n",
      "175/175 [==============================] - 64s 362ms/step - loss: 1.2072 - accuracy: 0.5671 - val_loss: 1.2685 - val_accuracy: 0.5467\n",
      "Epoch 11/15\n",
      "175/175 [==============================] - 58s 330ms/step - loss: 1.1857 - accuracy: 0.5753 - val_loss: 1.2281 - val_accuracy: 0.5609\n",
      "Epoch 12/15\n",
      "175/175 [==============================] - 58s 327ms/step - loss: 1.1671 - accuracy: 0.5817 - val_loss: 1.2177 - val_accuracy: 0.5659\n",
      "Epoch 13/15\n",
      "175/175 [==============================] - 65s 371ms/step - loss: 1.1410 - accuracy: 0.5919 - val_loss: 1.1932 - val_accuracy: 0.5740\n",
      "Epoch 14/15\n",
      "175/175 [==============================] - 66s 378ms/step - loss: 1.1236 - accuracy: 0.5979 - val_loss: 1.1875 - val_accuracy: 0.5762\n",
      "Epoch 15/15\n",
      "175/175 [==============================] - 62s 356ms/step - loss: 1.1056 - accuracy: 0.6058 - val_loss: 1.2213 - val_accuracy: 0.5627\n"
     ]
    }
   ],
   "source": [
    "shear_ranges = [0, 0.05, 0.1, 0.15, 0.2]\n",
    "ress_shear = []\n",
    "for shear_range in shear_ranges:\n",
    "    datagenTrain = ImageDataGenerator(\n",
    "    rescale=1.0 / 255,\n",
    "    shear_range=shear_range,\n",
    "    )\n",
    "    datagenTest = ImageDataGenerator(rescale=1.0 / 255)\n",
    "    train_generator = datagenTrain.flow_from_directory(\n",
    "        data_dir + \"/train\",\n",
    "        target_size=(32, 32),  # Resize images to this size\n",
    "        batch_size=batch_size,  # Number of images to load at each iteration\n",
    "        class_mode=\"categorical\",\n",
    "    )  # Type of classification ('binary' or 'categorical')\n",
    "\n",
    "    test_generator = datagenTest.flow_from_directory(\n",
    "        data_dir + \"/test\",\n",
    "        target_size=(32, 32),\n",
    "        batch_size=batch_size,\n",
    "        class_mode=\"categorical\",\n",
    "    )\n",
    "    model = models.Sequential()\n",
    "    model.add(layers.Conv2D(32, (3, 3), activation=\"relu\", input_shape=(32, 32, 3)))\n",
    "    model.add(layers.MaxPooling2D((2, 2)))\n",
    "    model.add(layers.Conv2D(64, (3, 3), activation=\"relu\"))\n",
    "    model.add(layers.MaxPooling2D((2, 2)))\n",
    "    model.add(layers.Conv2D(64, (3, 3), activation=\"relu\"))\n",
    "    model.add(layers.Flatten())\n",
    "    model.add(layers.Dense(64, activation=\"relu\"))\n",
    "    model.add(layers.Dense(10, activation=\"softmax\"))\n",
    "\n",
    "\n",
    "    model.compile(\n",
    "        optimizer=\"adam\", loss=\"categorical_crossentropy\", metrics=[\"accuracy\"]\n",
    "    )\n",
    "    history = model.fit(\n",
    "    train_generator,\n",
    "    steps_per_epoch=steps_per_epoch,\n",
    "    epochs=epochs,\n",
    "    validation_data=test_generator,\n",
    "    validation_steps=steps_per_epoch,\n",
    "    )\n",
    "    ress_shear.append(history)\n",
    "\n"
   ]
  },
  {
   "cell_type": "code",
   "execution_count": 12,
   "metadata": {},
   "outputs": [
    {
     "data": {
      "text/plain": [
       "5"
      ]
     },
     "execution_count": 12,
     "metadata": {},
     "output_type": "execute_result"
    }
   ],
   "source": [
    "len(ress_shear)"
   ]
  },
  {
   "cell_type": "code",
   "execution_count": 14,
   "metadata": {},
   "outputs": [
    {
     "data": {
      "text/plain": [
       "Text(0, 0.5, 'Validation accuracy')"
      ]
     },
     "execution_count": 14,
     "metadata": {},
     "output_type": "execute_result"
    },
    {
     "data": {
      "image/png": "[encoded data removed]",
      "text/plain": [
       "<Figure size 640x480 with 1 Axes>"
      ]
     },
     "metadata": {},
     "output_type": "display_data"
    }
   ],
   "source": [
    "for i, res in enumerate(ress_shear):\n",
    "    plt.plot(res.history[\"val_accuracy\"], label=f\"shear={shear_ranges[i]}\")\n",
    "plt.legend()\n",
    "plt.xlabel(\"Epochs\")\n",
    "plt.ylabel(\"Validation accuracy\")"
   ]
  },
  {
   "cell_type": "code",
   "execution_count": 16,
   "metadata": {},
   "outputs": [
    {
     "name": "stdout",
     "output_type": "stream",
     "text": [
      "Found 90000 images belonging to 10 classes.\n",
      "Found 90000 images belonging to 10 classes.\n",
      "Epoch 1/25\n"
     ]
    },
    {
     "name": "stderr",
     "output_type": "stream",
     "text": [
      "2024-03-19 21:47:47.726018: I tensorflow/core/common_runtime/executor.cc:1197] [/device:CPU:0] (DEBUG INFO) Executor start aborting (this does not indicate an error and you can ignore this message): INVALID_ARGUMENT: You must feed a value for placeholder tensor 'Placeholder/_0' with dtype int32\n",
      "\t [[{{node Placeholder/_0}}]]\n"
     ]
    },
    {
     "name": "stdout",
     "output_type": "stream",
     "text": [
      "176/175 [==============================] - ETA: 0s - loss: 1.8583 - accuracy: 0.3077"
     ]
    },
    {
     "name": "stderr",
     "output_type": "stream",
     "text": [
      "2024-03-19 21:48:31.167640: I tensorflow/core/common_runtime/executor.cc:1197] [/device:CPU:0] (DEBUG INFO) Executor start aborting (this does not indicate an error and you can ignore this message): INVALID_ARGUMENT: You must feed a value for placeholder tensor 'Placeholder/_0' with dtype int32\n",
      "\t [[{{node Placeholder/_0}}]]\n"
     ]
    },
    {
     "name": "stdout",
     "output_type": "stream",
     "text": [
      "175/175 [==============================] - 68s 386ms/step - loss: 1.8583 - accuracy: 0.3077 - val_loss: 1.6517 - val_accuracy: 0.3893\n",
      "Epoch 2/25\n",
      "175/175 [==============================] - 68s 388ms/step - loss: 1.6026 - accuracy: 0.4098 - val_loss: 1.6215 - val_accuracy: 0.4161\n",
      "Epoch 3/25\n",
      "175/175 [==============================] - 60s 340ms/step - loss: 1.5137 - accuracy: 0.4468 - val_loss: 1.4983 - val_accuracy: 0.4512\n",
      "Epoch 4/25\n",
      "175/175 [==============================] - 74s 419ms/step - loss: 1.4541 - accuracy: 0.4709 - val_loss: 1.4453 - val_accuracy: 0.4730\n",
      "Epoch 5/25\n",
      "175/175 [==============================] - 61s 347ms/step - loss: 1.4134 - accuracy: 0.4879 - val_loss: 1.3975 - val_accuracy: 0.4951\n",
      "Epoch 6/25\n",
      "175/175 [==============================] - 61s 345ms/step - loss: 1.3674 - accuracy: 0.5062 - val_loss: 1.3405 - val_accuracy: 0.5123\n",
      "Epoch 7/25\n",
      "175/175 [==============================] - 61s 347ms/step - loss: 1.3320 - accuracy: 0.5204 - val_loss: 1.3195 - val_accuracy: 0.5220\n",
      "Epoch 8/25\n",
      "175/175 [==============================] - 60s 342ms/step - loss: 1.3056 - accuracy: 0.5300 - val_loss: 1.3409 - val_accuracy: 0.5178\n",
      "Epoch 9/25\n",
      "175/175 [==============================] - 64s 364ms/step - loss: 1.2791 - accuracy: 0.5406 - val_loss: 1.2729 - val_accuracy: 0.5397\n",
      "Epoch 10/25\n",
      "175/175 [==============================] - 57s 324ms/step - loss: 1.2523 - accuracy: 0.5506 - val_loss: 1.2600 - val_accuracy: 0.5488\n",
      "Epoch 11/25\n",
      "175/175 [==============================] - 57s 322ms/step - loss: 1.2374 - accuracy: 0.5555 - val_loss: 1.2502 - val_accuracy: 0.5544\n",
      "Epoch 12/25\n",
      "175/175 [==============================] - 58s 332ms/step - loss: 1.2256 - accuracy: 0.5589 - val_loss: 1.2524 - val_accuracy: 0.5516\n",
      "Epoch 13/25\n",
      "175/175 [==============================] - 60s 341ms/step - loss: 1.2093 - accuracy: 0.5670 - val_loss: 1.2259 - val_accuracy: 0.5615\n",
      "Epoch 14/25\n",
      "175/175 [==============================] - 66s 375ms/step - loss: 1.1864 - accuracy: 0.5739 - val_loss: 1.2545 - val_accuracy: 0.5516\n",
      "Epoch 15/25\n",
      "175/175 [==============================] - 62s 353ms/step - loss: 1.1758 - accuracy: 0.5795 - val_loss: 1.2229 - val_accuracy: 0.5652\n",
      "Epoch 16/25\n",
      "175/175 [==============================] - 60s 342ms/step - loss: 1.1648 - accuracy: 0.5825 - val_loss: 1.1829 - val_accuracy: 0.5785\n",
      "Epoch 17/25\n",
      "175/175 [==============================] - 63s 357ms/step - loss: 1.1517 - accuracy: 0.5875 - val_loss: 1.1726 - val_accuracy: 0.5806\n",
      "Epoch 18/25\n",
      "175/175 [==============================] - 57s 325ms/step - loss: 1.1392 - accuracy: 0.5932 - val_loss: 1.1863 - val_accuracy: 0.5775\n",
      "Epoch 19/25\n",
      "175/175 [==============================] - 55s 311ms/step - loss: 1.1273 - accuracy: 0.5958 - val_loss: 1.2179 - val_accuracy: 0.5743\n",
      "Epoch 20/25\n",
      "175/175 [==============================] - 55s 311ms/step - loss: 1.1227 - accuracy: 0.5991 - val_loss: 1.1534 - val_accuracy: 0.5877\n",
      "Epoch 21/25\n",
      "175/175 [==============================] - 56s 320ms/step - loss: 1.1061 - accuracy: 0.6042 - val_loss: 1.1384 - val_accuracy: 0.5942\n",
      "Epoch 22/25\n",
      "175/175 [==============================] - 56s 320ms/step - loss: 1.1021 - accuracy: 0.6063 - val_loss: 1.1557 - val_accuracy: 0.5911\n",
      "Epoch 23/25\n",
      "175/175 [==============================] - 59s 335ms/step - loss: 1.0902 - accuracy: 0.6113 - val_loss: 1.1439 - val_accuracy: 0.5944\n",
      "Epoch 24/25\n",
      "175/175 [==============================] - 57s 324ms/step - loss: 1.0857 - accuracy: 0.6128 - val_loss: 1.1412 - val_accuracy: 0.5952\n",
      "Epoch 25/25\n",
      "175/175 [==============================] - 66s 375ms/step - loss: 1.0775 - accuracy: 0.6158 - val_loss: 1.1455 - val_accuracy: 0.5935\n",
      "Found 90000 images belonging to 10 classes.\n",
      "Found 90000 images belonging to 10 classes.\n",
      "Epoch 1/25\n"
     ]
    },
    {
     "name": "stderr",
     "output_type": "stream",
     "text": [
      "2024-03-19 22:13:13.161606: I tensorflow/core/common_runtime/executor.cc:1197] [/device:CPU:0] (DEBUG INFO) Executor start aborting (this does not indicate an error and you can ignore this message): INVALID_ARGUMENT: You must feed a value for placeholder tensor 'Placeholder/_0' with dtype int32\n",
      "\t [[{{node Placeholder/_0}}]]\n"
     ]
    },
    {
     "name": "stdout",
     "output_type": "stream",
     "text": [
      "176/175 [==============================] - ETA: 0s - loss: 1.8603 - accuracy: 0.3128"
     ]
    },
    {
     "name": "stderr",
     "output_type": "stream",
     "text": [
      "2024-03-19 22:13:49.473806: I tensorflow/core/common_runtime/executor.cc:1197] [/device:CPU:0] (DEBUG INFO) Executor start aborting (this does not indicate an error and you can ignore this message): INVALID_ARGUMENT: You must feed a value for placeholder tensor 'Placeholder/_0' with dtype int32\n",
      "\t [[{{node Placeholder/_0}}]]\n"
     ]
    },
    {
     "name": "stdout",
     "output_type": "stream",
     "text": [
      "175/175 [==============================] - 57s 323ms/step - loss: 1.8603 - accuracy: 0.3128 - val_loss: 1.8086 - val_accuracy: 0.3547\n",
      "Epoch 2/25\n",
      "175/175 [==============================] - 59s 333ms/step - loss: 1.6187 - accuracy: 0.4068 - val_loss: 1.6191 - val_accuracy: 0.4149\n",
      "Epoch 3/25\n",
      "175/175 [==============================] - 59s 334ms/step - loss: 1.5356 - accuracy: 0.4413 - val_loss: 1.4974 - val_accuracy: 0.4533\n",
      "Epoch 4/25\n",
      "175/175 [==============================] - 61s 346ms/step - loss: 1.4745 - accuracy: 0.4633 - val_loss: 1.4366 - val_accuracy: 0.4785\n",
      "Epoch 5/25\n",
      "175/175 [==============================] - 58s 331ms/step - loss: 1.4243 - accuracy: 0.4841 - val_loss: 1.4088 - val_accuracy: 0.4936\n",
      "Epoch 6/25\n",
      "175/175 [==============================] - 57s 325ms/step - loss: 1.3903 - accuracy: 0.4969 - val_loss: 1.3906 - val_accuracy: 0.4961\n",
      "Epoch 7/25\n",
      "175/175 [==============================] - 61s 346ms/step - loss: 1.3448 - accuracy: 0.5138 - val_loss: 1.3332 - val_accuracy: 0.5191\n",
      "Epoch 8/25\n",
      "175/175 [==============================] - 59s 335ms/step - loss: 1.3225 - accuracy: 0.5228 - val_loss: 1.3126 - val_accuracy: 0.5265\n",
      "Epoch 9/25\n",
      "175/175 [==============================] - 58s 333ms/step - loss: 1.2928 - accuracy: 0.5348 - val_loss: 1.3313 - val_accuracy: 0.5170\n",
      "Epoch 10/25\n",
      "175/175 [==============================] - 56s 317ms/step - loss: 1.2708 - accuracy: 0.5422 - val_loss: 1.2627 - val_accuracy: 0.5467\n",
      "Epoch 11/25\n",
      "175/175 [==============================] - 55s 310ms/step - loss: 1.2539 - accuracy: 0.5491 - val_loss: 1.2673 - val_accuracy: 0.5448\n",
      "Epoch 12/25\n",
      "175/175 [==============================] - 59s 334ms/step - loss: 1.2336 - accuracy: 0.5560 - val_loss: 1.2526 - val_accuracy: 0.5534\n",
      "Epoch 13/25\n",
      "175/175 [==============================] - 55s 314ms/step - loss: 1.2247 - accuracy: 0.5601 - val_loss: 1.2317 - val_accuracy: 0.5601\n",
      "Epoch 14/25\n",
      "175/175 [==============================] - 56s 319ms/step - loss: 1.2031 - accuracy: 0.5694 - val_loss: 1.2427 - val_accuracy: 0.5599\n",
      "Epoch 15/25\n",
      "175/175 [==============================] - 65s 368ms/step - loss: 1.1841 - accuracy: 0.5754 - val_loss: 1.2265 - val_accuracy: 0.5630\n",
      "Epoch 16/25\n",
      "175/175 [==============================] - 55s 315ms/step - loss: 1.1785 - accuracy: 0.5787 - val_loss: 1.1871 - val_accuracy: 0.5776\n",
      "Epoch 17/25\n",
      "175/175 [==============================] - 56s 318ms/step - loss: 1.1589 - accuracy: 0.5862 - val_loss: 1.1912 - val_accuracy: 0.5732\n",
      "Epoch 18/25\n",
      "175/175 [==============================] - 59s 336ms/step - loss: 1.1488 - accuracy: 0.5888 - val_loss: 1.1549 - val_accuracy: 0.5891\n",
      "Epoch 19/25\n",
      "175/175 [==============================] - 56s 318ms/step - loss: 1.1304 - accuracy: 0.5974 - val_loss: 1.1562 - val_accuracy: 0.5894\n",
      "Epoch 20/25\n",
      "175/175 [==============================] - 56s 319ms/step - loss: 1.1251 - accuracy: 0.5985 - val_loss: 1.1742 - val_accuracy: 0.5830\n",
      "Epoch 21/25\n",
      "175/175 [==============================] - 58s 328ms/step - loss: 1.1192 - accuracy: 0.6005 - val_loss: 1.1750 - val_accuracy: 0.5872\n",
      "Epoch 22/25\n",
      "175/175 [==============================] - 56s 318ms/step - loss: 1.1073 - accuracy: 0.6047 - val_loss: 1.1769 - val_accuracy: 0.5820\n",
      "Epoch 23/25\n",
      "175/175 [==============================] - 57s 325ms/step - loss: 1.0942 - accuracy: 0.6098 - val_loss: 1.1291 - val_accuracy: 0.5988\n",
      "Epoch 24/25\n",
      "175/175 [==============================] - 54s 308ms/step - loss: 1.0833 - accuracy: 0.6132 - val_loss: 1.1282 - val_accuracy: 0.5975\n",
      "Epoch 25/25\n",
      "175/175 [==============================] - 57s 326ms/step - loss: 1.0750 - accuracy: 0.6161 - val_loss: 1.1110 - val_accuracy: 0.6076\n",
      "Found 90000 images belonging to 10 classes.\n",
      "Found 90000 images belonging to 10 classes.\n",
      "Epoch 1/25\n"
     ]
    },
    {
     "name": "stderr",
     "output_type": "stream",
     "text": [
      "2024-03-19 22:37:16.779153: I tensorflow/core/common_runtime/executor.cc:1197] [/device:CPU:0] (DEBUG INFO) Executor start aborting (this does not indicate an error and you can ignore this message): INVALID_ARGUMENT: You must feed a value for placeholder tensor 'Placeholder/_0' with dtype int32\n",
      "\t [[{{node Placeholder/_0}}]]\n"
     ]
    },
    {
     "name": "stdout",
     "output_type": "stream",
     "text": [
      "176/175 [==============================] - ETA: 0s - loss: 1.8521 - accuracy: 0.3139"
     ]
    },
    {
     "name": "stderr",
     "output_type": "stream",
     "text": [
      "2024-03-19 22:37:53.465407: I tensorflow/core/common_runtime/executor.cc:1197] [/device:CPU:0] (DEBUG INFO) Executor start aborting (this does not indicate an error and you can ignore this message): INVALID_ARGUMENT: You must feed a value for placeholder tensor 'Placeholder/_0' with dtype int32\n",
      "\t [[{{node Placeholder/_0}}]]\n"
     ]
    },
    {
     "name": "stdout",
     "output_type": "stream",
     "text": [
      "175/175 [==============================] - 56s 316ms/step - loss: 1.8521 - accuracy: 0.3139 - val_loss: 1.6864 - val_accuracy: 0.3793\n",
      "Epoch 2/25\n",
      "175/175 [==============================] - 58s 329ms/step - loss: 1.6230 - accuracy: 0.4047 - val_loss: 1.5655 - val_accuracy: 0.4279\n",
      "Epoch 3/25\n",
      "175/175 [==============================] - 55s 312ms/step - loss: 1.5454 - accuracy: 0.4339 - val_loss: 1.5012 - val_accuracy: 0.4490\n",
      "Epoch 4/25\n",
      "175/175 [==============================] - 58s 329ms/step - loss: 1.4892 - accuracy: 0.4594 - val_loss: 1.5035 - val_accuracy: 0.4524\n",
      "Epoch 5/25\n",
      "175/175 [==============================] - 55s 312ms/step - loss: 1.4465 - accuracy: 0.4745 - val_loss: 1.5027 - val_accuracy: 0.4665\n",
      "Epoch 6/25\n",
      "175/175 [==============================] - 67s 381ms/step - loss: 1.4070 - accuracy: 0.4906 - val_loss: 1.3864 - val_accuracy: 0.5020\n",
      "Epoch 7/25\n",
      "175/175 [==============================] - 62s 351ms/step - loss: 1.3805 - accuracy: 0.5030 - val_loss: 1.3428 - val_accuracy: 0.5160\n",
      "Epoch 8/25\n",
      "175/175 [==============================] - 60s 343ms/step - loss: 1.3511 - accuracy: 0.5125 - val_loss: 1.3335 - val_accuracy: 0.5201\n",
      "Epoch 9/25\n",
      "175/175 [==============================] - 60s 340ms/step - loss: 1.3260 - accuracy: 0.5228 - val_loss: 1.3470 - val_accuracy: 0.5178\n",
      "Epoch 10/25\n",
      "175/175 [==============================] - 60s 342ms/step - loss: 1.3031 - accuracy: 0.5307 - val_loss: 1.3472 - val_accuracy: 0.5201\n",
      "Epoch 11/25\n",
      "175/175 [==============================] - 70s 392ms/step - loss: 1.2840 - accuracy: 0.5385 - val_loss: 1.3191 - val_accuracy: 0.5321\n",
      "Epoch 12/25\n",
      "175/175 [==============================] - 67s 382ms/step - loss: 1.2647 - accuracy: 0.5462 - val_loss: 1.2715 - val_accuracy: 0.5479\n",
      "Epoch 13/25\n",
      "175/175 [==============================] - 57s 326ms/step - loss: 1.2524 - accuracy: 0.5522 - val_loss: 1.2443 - val_accuracy: 0.5544\n",
      "Epoch 14/25\n",
      "175/175 [==============================] - 58s 331ms/step - loss: 1.2389 - accuracy: 0.5558 - val_loss: 1.2538 - val_accuracy: 0.5534\n",
      "Epoch 15/25\n",
      "175/175 [==============================] - 75s 428ms/step - loss: 1.2132 - accuracy: 0.5657 - val_loss: 1.2790 - val_accuracy: 0.5502\n",
      "Epoch 16/25\n",
      "175/175 [==============================] - 72s 411ms/step - loss: 1.2056 - accuracy: 0.5688 - val_loss: 1.2164 - val_accuracy: 0.5657\n",
      "Epoch 17/25\n",
      "175/175 [==============================] - 56s 321ms/step - loss: 1.1903 - accuracy: 0.5732 - val_loss: 1.1953 - val_accuracy: 0.5726\n",
      "Epoch 18/25\n",
      "175/175 [==============================] - 62s 353ms/step - loss: 1.1832 - accuracy: 0.5763 - val_loss: 1.2118 - val_accuracy: 0.5693\n",
      "Epoch 19/25\n",
      "175/175 [==============================] - 57s 324ms/step - loss: 1.1683 - accuracy: 0.5825 - val_loss: 1.2146 - val_accuracy: 0.5698\n",
      "Epoch 20/25\n",
      "175/175 [==============================] - 58s 329ms/step - loss: 1.1539 - accuracy: 0.5870 - val_loss: 1.1680 - val_accuracy: 0.5828\n",
      "Epoch 21/25\n",
      "175/175 [==============================] - 56s 317ms/step - loss: 1.1505 - accuracy: 0.5883 - val_loss: 1.2119 - val_accuracy: 0.5654\n",
      "Epoch 22/25\n",
      "175/175 [==============================] - 57s 322ms/step - loss: 1.1364 - accuracy: 0.5956 - val_loss: 1.1981 - val_accuracy: 0.5729\n",
      "Epoch 23/25\n",
      "175/175 [==============================] - 54s 307ms/step - loss: 1.1308 - accuracy: 0.5977 - val_loss: 1.1555 - val_accuracy: 0.5882\n",
      "Epoch 24/25\n",
      "175/175 [==============================] - 55s 312ms/step - loss: 1.1253 - accuracy: 0.5990 - val_loss: 1.1707 - val_accuracy: 0.5844\n",
      "Epoch 25/25\n",
      "175/175 [==============================] - 55s 315ms/step - loss: 1.1135 - accuracy: 0.6045 - val_loss: 1.1683 - val_accuracy: 0.5857\n",
      "Found 90000 images belonging to 10 classes.\n",
      "Found 90000 images belonging to 10 classes.\n",
      "Epoch 1/25\n"
     ]
    },
    {
     "name": "stderr",
     "output_type": "stream",
     "text": [
      "2024-03-19 23:02:21.922461: I tensorflow/core/common_runtime/executor.cc:1197] [/device:CPU:0] (DEBUG INFO) Executor start aborting (this does not indicate an error and you can ignore this message): INVALID_ARGUMENT: You must feed a value for placeholder tensor 'Placeholder/_0' with dtype int32\n",
      "\t [[{{node Placeholder/_0}}]]\n"
     ]
    },
    {
     "name": "stdout",
     "output_type": "stream",
     "text": [
      "176/175 [==============================] - ETA: 0s - loss: 1.8699 - accuracy: 0.3081"
     ]
    },
    {
     "name": "stderr",
     "output_type": "stream",
     "text": [
      "2024-03-19 23:02:58.727533: I tensorflow/core/common_runtime/executor.cc:1197] [/device:CPU:0] (DEBUG INFO) Executor start aborting (this does not indicate an error and you can ignore this message): INVALID_ARGUMENT: You must feed a value for placeholder tensor 'Placeholder/_0' with dtype int32\n",
      "\t [[{{node Placeholder/_0}}]]\n"
     ]
    },
    {
     "name": "stdout",
     "output_type": "stream",
     "text": [
      "175/175 [==============================] - 57s 322ms/step - loss: 1.8699 - accuracy: 0.3081 - val_loss: 1.6753 - val_accuracy: 0.3798\n",
      "Epoch 2/25\n",
      "175/175 [==============================] - 55s 313ms/step - loss: 1.6279 - accuracy: 0.4004 - val_loss: 1.5900 - val_accuracy: 0.4163\n",
      "Epoch 3/25\n",
      "175/175 [==============================] - 54s 307ms/step - loss: 1.5397 - accuracy: 0.4377 - val_loss: 1.5654 - val_accuracy: 0.4368\n",
      "Epoch 4/25\n",
      "175/175 [==============================] - 54s 307ms/step - loss: 1.4810 - accuracy: 0.4644 - val_loss: 1.4954 - val_accuracy: 0.4623\n",
      "Epoch 5/25\n",
      "175/175 [==============================] - 55s 310ms/step - loss: 1.4274 - accuracy: 0.4840 - val_loss: 1.4439 - val_accuracy: 0.4896\n",
      "Epoch 6/25\n",
      "175/175 [==============================] - 55s 311ms/step - loss: 1.3943 - accuracy: 0.4958 - val_loss: 1.4446 - val_accuracy: 0.4876\n",
      "Epoch 7/25\n",
      "175/175 [==============================] - 54s 307ms/step - loss: 1.3623 - accuracy: 0.5107 - val_loss: 1.3728 - val_accuracy: 0.5136\n",
      "Epoch 8/25\n",
      "175/175 [==============================] - 57s 327ms/step - loss: 1.3325 - accuracy: 0.5215 - val_loss: 1.2935 - val_accuracy: 0.5364\n",
      "Epoch 9/25\n",
      "175/175 [==============================] - 56s 318ms/step - loss: 1.3110 - accuracy: 0.5295 - val_loss: 1.3080 - val_accuracy: 0.5290\n",
      "Epoch 10/25\n",
      "175/175 [==============================] - 55s 314ms/step - loss: 1.2879 - accuracy: 0.5380 - val_loss: 1.3462 - val_accuracy: 0.5238\n",
      "Epoch 11/25\n",
      "175/175 [==============================] - 54s 306ms/step - loss: 1.2696 - accuracy: 0.5427 - val_loss: 1.2411 - val_accuracy: 0.5587\n",
      "Epoch 12/25\n",
      "175/175 [==============================] - 55s 311ms/step - loss: 1.2512 - accuracy: 0.5516 - val_loss: 1.2262 - val_accuracy: 0.5622\n",
      "Epoch 13/25\n",
      "175/175 [==============================] - 54s 307ms/step - loss: 1.2333 - accuracy: 0.5577 - val_loss: 1.2584 - val_accuracy: 0.5529\n",
      "Epoch 14/25\n",
      "175/175 [==============================] - 54s 308ms/step - loss: 1.2229 - accuracy: 0.5622 - val_loss: 1.2236 - val_accuracy: 0.5663\n",
      "Epoch 15/25\n",
      "175/175 [==============================] - 54s 309ms/step - loss: 1.2110 - accuracy: 0.5657 - val_loss: 1.2097 - val_accuracy: 0.5685\n",
      "Epoch 16/25\n",
      "175/175 [==============================] - 56s 316ms/step - loss: 1.1967 - accuracy: 0.5725 - val_loss: 1.2014 - val_accuracy: 0.5724\n",
      "Epoch 17/25\n",
      "175/175 [==============================] - 54s 308ms/step - loss: 1.1842 - accuracy: 0.5763 - val_loss: 1.1844 - val_accuracy: 0.5785\n",
      "Epoch 18/25\n",
      "175/175 [==============================] - 54s 308ms/step - loss: 1.1690 - accuracy: 0.5818 - val_loss: 1.1647 - val_accuracy: 0.5836\n",
      "Epoch 19/25\n",
      "175/175 [==============================] - 54s 306ms/step - loss: 1.1599 - accuracy: 0.5853 - val_loss: 1.2043 - val_accuracy: 0.5725\n",
      "Epoch 20/25\n",
      "175/175 [==============================] - 54s 306ms/step - loss: 1.1552 - accuracy: 0.5878 - val_loss: 1.2298 - val_accuracy: 0.5700\n",
      "Epoch 21/25\n",
      "175/175 [==============================] - 54s 307ms/step - loss: 1.1444 - accuracy: 0.5924 - val_loss: 1.2252 - val_accuracy: 0.5702\n",
      "Epoch 22/25\n",
      "175/175 [==============================] - 55s 313ms/step - loss: 1.1363 - accuracy: 0.5938 - val_loss: 1.1940 - val_accuracy: 0.5791\n",
      "Epoch 23/25\n",
      "175/175 [==============================] - 54s 309ms/step - loss: 1.1274 - accuracy: 0.5960 - val_loss: 1.1596 - val_accuracy: 0.5875\n",
      "Epoch 24/25\n",
      "175/175 [==============================] - 53s 304ms/step - loss: 1.1258 - accuracy: 0.5978 - val_loss: 1.1646 - val_accuracy: 0.5890\n",
      "Epoch 25/25\n",
      "175/175 [==============================] - 53s 303ms/step - loss: 1.1116 - accuracy: 0.6015 - val_loss: 1.2067 - val_accuracy: 0.5756\n",
      "Found 90000 images belonging to 10 classes.\n",
      "Found 90000 images belonging to 10 classes.\n",
      "Epoch 1/25\n"
     ]
    },
    {
     "name": "stderr",
     "output_type": "stream",
     "text": [
      "2024-03-19 23:25:11.020567: I tensorflow/core/common_runtime/executor.cc:1197] [/device:CPU:0] (DEBUG INFO) Executor start aborting (this does not indicate an error and you can ignore this message): INVALID_ARGUMENT: You must feed a value for placeholder tensor 'Placeholder/_0' with dtype int32\n",
      "\t [[{{node Placeholder/_0}}]]\n"
     ]
    },
    {
     "name": "stdout",
     "output_type": "stream",
     "text": [
      "176/175 [==============================] - ETA: 0s - loss: 1.8832 - accuracy: 0.3023"
     ]
    },
    {
     "name": "stderr",
     "output_type": "stream",
     "text": [
      "2024-03-19 23:25:46.714947: I tensorflow/core/common_runtime/executor.cc:1197] [/device:CPU:0] (DEBUG INFO) Executor start aborting (this does not indicate an error and you can ignore this message): INVALID_ARGUMENT: You must feed a value for placeholder tensor 'Placeholder/_0' with dtype int32\n",
      "\t [[{{node Placeholder/_0}}]]\n"
     ]
    },
    {
     "name": "stdout",
     "output_type": "stream",
     "text": [
      "175/175 [==============================] - 54s 309ms/step - loss: 1.8832 - accuracy: 0.3023 - val_loss: 1.7415 - val_accuracy: 0.3580\n",
      "Epoch 2/25\n",
      "175/175 [==============================] - 56s 319ms/step - loss: 1.6489 - accuracy: 0.3919 - val_loss: 1.6240 - val_accuracy: 0.4083\n",
      "Epoch 3/25\n",
      "175/175 [==============================] - 53s 302ms/step - loss: 1.5852 - accuracy: 0.4191 - val_loss: 1.5483 - val_accuracy: 0.4339\n",
      "Epoch 4/25\n",
      "175/175 [==============================] - 53s 304ms/step - loss: 1.5319 - accuracy: 0.4414 - val_loss: 1.5353 - val_accuracy: 0.4439\n",
      "Epoch 5/25\n",
      "175/175 [==============================] - 54s 307ms/step - loss: 1.4887 - accuracy: 0.4585 - val_loss: 1.4814 - val_accuracy: 0.4606\n",
      "Epoch 6/25\n",
      "175/175 [==============================] - 55s 312ms/step - loss: 1.4511 - accuracy: 0.4743 - val_loss: 1.4449 - val_accuracy: 0.4773\n",
      "Epoch 7/25\n",
      "175/175 [==============================] - 53s 303ms/step - loss: 1.4152 - accuracy: 0.4893 - val_loss: 1.4072 - val_accuracy: 0.4930\n",
      "Epoch 8/25\n",
      "175/175 [==============================] - 54s 310ms/step - loss: 1.3861 - accuracy: 0.5002 - val_loss: 1.3848 - val_accuracy: 0.5058\n",
      "Epoch 9/25\n",
      "175/175 [==============================] - 57s 324ms/step - loss: 1.3576 - accuracy: 0.5126 - val_loss: 1.4250 - val_accuracy: 0.4943\n",
      "Epoch 10/25\n",
      "175/175 [==============================] - 54s 310ms/step - loss: 1.3411 - accuracy: 0.5165 - val_loss: 1.3224 - val_accuracy: 0.5225\n",
      "Epoch 11/25\n",
      "175/175 [==============================] - 55s 314ms/step - loss: 1.3168 - accuracy: 0.5268 - val_loss: 1.3017 - val_accuracy: 0.5308\n",
      "Epoch 12/25\n",
      "175/175 [==============================] - 54s 307ms/step - loss: 1.3002 - accuracy: 0.5335 - val_loss: 1.3520 - val_accuracy: 0.5215\n",
      "Epoch 13/25\n",
      "175/175 [==============================] - 58s 329ms/step - loss: 1.2811 - accuracy: 0.5383 - val_loss: 1.3108 - val_accuracy: 0.5344\n",
      "Epoch 14/25\n",
      "175/175 [==============================] - 60s 342ms/step - loss: 1.2759 - accuracy: 0.5422 - val_loss: 1.2566 - val_accuracy: 0.5493\n",
      "Epoch 15/25\n",
      "175/175 [==============================] - 58s 327ms/step - loss: 1.2554 - accuracy: 0.5491 - val_loss: 1.2525 - val_accuracy: 0.5552\n",
      "Epoch 16/25\n",
      "175/175 [==============================] - 55s 311ms/step - loss: 1.2471 - accuracy: 0.5523 - val_loss: 1.2737 - val_accuracy: 0.5492\n",
      "Epoch 17/25\n",
      "175/175 [==============================] - 55s 311ms/step - loss: 1.2278 - accuracy: 0.5589 - val_loss: 1.2332 - val_accuracy: 0.5630\n",
      "Epoch 18/25\n",
      "175/175 [==============================] - 55s 314ms/step - loss: 1.2218 - accuracy: 0.5616 - val_loss: 1.2499 - val_accuracy: 0.5585\n",
      "Epoch 19/25\n",
      "175/175 [==============================] - 55s 313ms/step - loss: 1.2126 - accuracy: 0.5651 - val_loss: 1.2322 - val_accuracy: 0.5643\n",
      "Epoch 20/25\n",
      "175/175 [==============================] - 54s 308ms/step - loss: 1.2025 - accuracy: 0.5691 - val_loss: 1.2203 - val_accuracy: 0.5682\n",
      "Epoch 21/25\n",
      "175/175 [==============================] - 53s 303ms/step - loss: 1.1947 - accuracy: 0.5718 - val_loss: 1.1923 - val_accuracy: 0.5745\n",
      "Epoch 22/25\n",
      "175/175 [==============================] - 55s 311ms/step - loss: 1.1821 - accuracy: 0.5753 - val_loss: 1.1861 - val_accuracy: 0.5779\n",
      "Epoch 23/25\n",
      "175/175 [==============================] - 55s 315ms/step - loss: 1.1780 - accuracy: 0.5777 - val_loss: 1.1870 - val_accuracy: 0.5768\n",
      "Epoch 24/25\n",
      "175/175 [==============================] - 57s 326ms/step - loss: 1.1621 - accuracy: 0.5831 - val_loss: 1.1818 - val_accuracy: 0.5809\n",
      "Epoch 25/25\n",
      "175/175 [==============================] - 56s 318ms/step - loss: 1.1526 - accuracy: 0.5874 - val_loss: 1.1568 - val_accuracy: 0.5883\n",
      "Found 90000 images belonging to 10 classes.\n",
      "Found 90000 images belonging to 10 classes.\n",
      "Epoch 1/25\n"
     ]
    },
    {
     "name": "stderr",
     "output_type": "stream",
     "text": [
      "2024-03-19 23:48:15.001145: I tensorflow/core/common_runtime/executor.cc:1197] [/device:CPU:0] (DEBUG INFO) Executor start aborting (this does not indicate an error and you can ignore this message): INVALID_ARGUMENT: You must feed a value for placeholder tensor 'Placeholder/_0' with dtype int32\n",
      "\t [[{{node Placeholder/_0}}]]\n"
     ]
    },
    {
     "name": "stdout",
     "output_type": "stream",
     "text": [
      "176/175 [==============================] - ETA: 0s - loss: 1.8648 - accuracy: 0.3097"
     ]
    },
    {
     "name": "stderr",
     "output_type": "stream",
     "text": [
      "2024-03-19 23:48:54.391961: I tensorflow/core/common_runtime/executor.cc:1197] [/device:CPU:0] (DEBUG INFO) Executor start aborting (this does not indicate an error and you can ignore this message): INVALID_ARGUMENT: You must feed a value for placeholder tensor 'Placeholder/_0' with dtype int32\n",
      "\t [[{{node Placeholder/_0}}]]\n"
     ]
    },
    {
     "name": "stdout",
     "output_type": "stream",
     "text": [
      "175/175 [==============================] - 59s 314ms/step - loss: 1.8648 - accuracy: 0.3097 - val_loss: 1.7438 - val_accuracy: 0.3588\n",
      "Epoch 2/25\n",
      "175/175 [==============================] - 55s 315ms/step - loss: 1.6559 - accuracy: 0.3913 - val_loss: 1.5916 - val_accuracy: 0.4139\n",
      "Epoch 3/25\n",
      "175/175 [==============================] - 54s 305ms/step - loss: 1.5866 - accuracy: 0.4201 - val_loss: 1.5569 - val_accuracy: 0.4316\n",
      "Epoch 4/25\n",
      "175/175 [==============================] - 54s 309ms/step - loss: 1.5252 - accuracy: 0.4463 - val_loss: 1.4654 - val_accuracy: 0.4681\n",
      "Epoch 5/25\n",
      "175/175 [==============================] - 54s 309ms/step - loss: 1.4811 - accuracy: 0.4633 - val_loss: 1.4669 - val_accuracy: 0.4709\n",
      "Epoch 6/25\n",
      "175/175 [==============================] - 54s 305ms/step - loss: 1.4487 - accuracy: 0.4758 - val_loss: 1.4367 - val_accuracy: 0.4780\n",
      "Epoch 7/25\n",
      "175/175 [==============================] - 54s 309ms/step - loss: 1.4263 - accuracy: 0.4825 - val_loss: 1.4355 - val_accuracy: 0.4829\n",
      "Epoch 8/25\n",
      "175/175 [==============================] - 55s 315ms/step - loss: 1.3971 - accuracy: 0.4960 - val_loss: 1.3574 - val_accuracy: 0.5090\n",
      "Epoch 9/25\n",
      "175/175 [==============================] - 55s 312ms/step - loss: 1.3683 - accuracy: 0.5052 - val_loss: 1.3251 - val_accuracy: 0.5219\n",
      "Epoch 10/25\n",
      "175/175 [==============================] - 55s 313ms/step - loss: 1.3560 - accuracy: 0.5126 - val_loss: 1.3604 - val_accuracy: 0.5100\n",
      "Epoch 11/25\n",
      "175/175 [==============================] - 56s 319ms/step - loss: 1.3371 - accuracy: 0.5198 - val_loss: 1.3722 - val_accuracy: 0.5145\n",
      "Epoch 12/25\n",
      "175/175 [==============================] - 55s 310ms/step - loss: 1.3224 - accuracy: 0.5243 - val_loss: 1.3596 - val_accuracy: 0.5185\n",
      "Epoch 13/25\n",
      "175/175 [==============================] - 55s 314ms/step - loss: 1.3065 - accuracy: 0.5303 - val_loss: 1.3030 - val_accuracy: 0.5379\n",
      "Epoch 14/25\n",
      "175/175 [==============================] - 55s 311ms/step - loss: 1.2917 - accuracy: 0.5357 - val_loss: 1.2840 - val_accuracy: 0.5436\n",
      "Epoch 15/25\n",
      "175/175 [==============================] - 56s 317ms/step - loss: 1.2884 - accuracy: 0.5363 - val_loss: 1.2860 - val_accuracy: 0.5396\n",
      "Epoch 16/25\n",
      "175/175 [==============================] - 54s 309ms/step - loss: 1.2665 - accuracy: 0.5446 - val_loss: 1.2767 - val_accuracy: 0.5451\n",
      "Epoch 17/25\n",
      "175/175 [==============================] - 54s 309ms/step - loss: 1.2602 - accuracy: 0.5473 - val_loss: 1.2841 - val_accuracy: 0.5420\n",
      "Epoch 18/25\n",
      "175/175 [==============================] - 54s 308ms/step - loss: 1.2497 - accuracy: 0.5503 - val_loss: 1.2532 - val_accuracy: 0.5536\n",
      "Epoch 19/25\n",
      "175/175 [==============================] - 54s 307ms/step - loss: 1.2369 - accuracy: 0.5563 - val_loss: 1.2328 - val_accuracy: 0.5624\n",
      "Epoch 20/25\n",
      "175/175 [==============================] - 54s 305ms/step - loss: 1.2232 - accuracy: 0.5606 - val_loss: 1.2595 - val_accuracy: 0.5576\n",
      "Epoch 21/25\n",
      "175/175 [==============================] - 55s 311ms/step - loss: 1.2179 - accuracy: 0.5617 - val_loss: 1.1849 - val_accuracy: 0.5780\n",
      "Epoch 22/25\n",
      "175/175 [==============================] - 54s 307ms/step - loss: 1.2076 - accuracy: 0.5672 - val_loss: 1.2270 - val_accuracy: 0.5629\n",
      "Epoch 23/25\n",
      "175/175 [==============================] - 55s 310ms/step - loss: 1.1983 - accuracy: 0.5713 - val_loss: 1.1921 - val_accuracy: 0.5741\n",
      "Epoch 24/25\n",
      "175/175 [==============================] - 54s 309ms/step - loss: 1.1989 - accuracy: 0.5698 - val_loss: 1.2860 - val_accuracy: 0.5495\n",
      "Epoch 25/25\n",
      "175/175 [==============================] - 53s 304ms/step - loss: 1.1851 - accuracy: 0.5766 - val_loss: 1.1965 - val_accuracy: 0.5709\n"
     ]
    }
   ],
   "source": [
    "#Testing rotations\n",
    "rotations = [5,10,15,20,25,30]\n",
    "result_rotations = []\n",
    "for rotation in rotations:\n",
    "    datagenTrain = ImageDataGenerator(\n",
    "    rescale=1.0 / 255,\n",
    "    rotation_range=rotation,\n",
    "    horizontal_flip=True,\n",
    "    fill_mode=\"reflect\",\n",
    "    )\n",
    "    datagenTest = ImageDataGenerator(rescale=1.0 / 255)\n",
    "    train_generator = datagenTrain.flow_from_directory(\n",
    "        data_dir + \"/train\",\n",
    "        target_size=(32, 32),  # Resize images to this size\n",
    "        batch_size=batch_size,  # Number of images to load at each iteration\n",
    "        class_mode=\"categorical\",\n",
    "    )  # Type of classification ('binary' or 'categorical')\n",
    "\n",
    "    test_generator = datagenTest.flow_from_directory(\n",
    "        data_dir + \"/test\",\n",
    "        target_size=(32, 32),\n",
    "        batch_size=batch_size,\n",
    "        class_mode=\"categorical\",\n",
    "    )\n",
    "    model = models.Sequential()\n",
    "    model.add(layers.Conv2D(32, (3, 3), activation=\"relu\", input_shape=(32, 32, 3)))\n",
    "    model.add(layers.MaxPooling2D((2, 2)))\n",
    "    model.add(layers.Conv2D(64, (3, 3), activation=\"relu\"))\n",
    "    model.add(layers.MaxPooling2D((2, 2)))\n",
    "    model.add(layers.Conv2D(64, (3, 3), activation=\"relu\"))\n",
    "    model.add(layers.Flatten())\n",
    "    model.add(layers.Dense(64, activation=\"relu\"))\n",
    "    model.add(layers.Dense(10, activation=\"softmax\"))\n",
    "\n",
    "\n",
    "    model.compile(\n",
    "        optimizer=\"adam\", loss=\"categorical_crossentropy\", metrics=[\"accuracy\"]\n",
    "    )\n",
    "    history = model.fit(\n",
    "    train_generator,\n",
    "    steps_per_epoch=steps_per_epoch,\n",
    "    epochs=epochs,\n",
    "    validation_data=test_generator,\n",
    "    validation_steps=steps_per_epoch,\n",
    "    )\n",
    "    result_rotations.append(history)\n",
    "\n"
   ]
  },
  {
   "cell_type": "code",
   "execution_count": 17,
   "metadata": {},
   "outputs": [
    {
     "name": "stdout",
     "output_type": "stream",
     "text": [
      "Found 90000 images belonging to 10 classes.\n",
      "Found 90000 images belonging to 10 classes.\n",
      "Epoch 1/25\n"
     ]
    },
    {
     "name": "stderr",
     "output_type": "stream",
     "text": [
      "2024-03-20 00:11:06.752102: I tensorflow/core/common_runtime/executor.cc:1197] [/device:CPU:0] (DEBUG INFO) Executor start aborting (this does not indicate an error and you can ignore this message): INVALID_ARGUMENT: You must feed a value for placeholder tensor 'Placeholder/_0' with dtype int32\n",
      "\t [[{{node Placeholder/_0}}]]\n"
     ]
    },
    {
     "name": "stdout",
     "output_type": "stream",
     "text": [
      "176/175 [==============================] - ETA: 0s - loss: 1.8643 - accuracy: 0.3094"
     ]
    },
    {
     "name": "stderr",
     "output_type": "stream",
     "text": [
      "2024-03-20 00:11:43.609780: I tensorflow/core/common_runtime/executor.cc:1197] [/device:CPU:0] (DEBUG INFO) Executor start aborting (this does not indicate an error and you can ignore this message): INVALID_ARGUMENT: You must feed a value for placeholder tensor 'Placeholder/_0' with dtype int32\n",
      "\t [[{{node Placeholder/_0}}]]\n"
     ]
    },
    {
     "name": "stdout",
     "output_type": "stream",
     "text": [
      "175/175 [==============================] - 56s 320ms/step - loss: 1.8643 - accuracy: 0.3094 - val_loss: 1.6890 - val_accuracy: 0.3749\n",
      "Epoch 2/25\n",
      "175/175 [==============================] - 54s 305ms/step - loss: 1.6166 - accuracy: 0.4044 - val_loss: 1.5674 - val_accuracy: 0.4276\n",
      "Epoch 3/25\n",
      "175/175 [==============================] - 54s 306ms/step - loss: 1.5152 - accuracy: 0.4444 - val_loss: 1.5099 - val_accuracy: 0.4444\n",
      "Epoch 4/25\n",
      "175/175 [==============================] - 53s 300ms/step - loss: 1.4548 - accuracy: 0.4682 - val_loss: 1.4638 - val_accuracy: 0.4711\n",
      "Epoch 5/25\n",
      "175/175 [==============================] - 54s 307ms/step - loss: 1.4002 - accuracy: 0.4926 - val_loss: 1.3733 - val_accuracy: 0.5021\n",
      "Epoch 6/25\n",
      "175/175 [==============================] - 54s 305ms/step - loss: 1.3567 - accuracy: 0.5083 - val_loss: 1.3618 - val_accuracy: 0.5063\n",
      "Epoch 7/25\n",
      "175/175 [==============================] - 54s 304ms/step - loss: 1.3185 - accuracy: 0.5235 - val_loss: 1.3308 - val_accuracy: 0.5235\n",
      "Epoch 8/25\n",
      "175/175 [==============================] - 54s 305ms/step - loss: 1.2880 - accuracy: 0.5366 - val_loss: 1.3003 - val_accuracy: 0.5335\n",
      "Epoch 9/25\n",
      "175/175 [==============================] - 53s 300ms/step - loss: 1.2686 - accuracy: 0.5447 - val_loss: 1.3236 - val_accuracy: 0.5283\n",
      "Epoch 10/25\n",
      "175/175 [==============================] - 53s 303ms/step - loss: 1.2485 - accuracy: 0.5512 - val_loss: 1.2520 - val_accuracy: 0.5480\n",
      "Epoch 11/25\n",
      "175/175 [==============================] - 53s 301ms/step - loss: 1.2236 - accuracy: 0.5608 - val_loss: 1.2490 - val_accuracy: 0.5533\n",
      "Epoch 12/25\n",
      "175/175 [==============================] - 54s 307ms/step - loss: 1.2077 - accuracy: 0.5660 - val_loss: 1.2425 - val_accuracy: 0.5547\n",
      "Epoch 13/25\n",
      "175/175 [==============================] - 54s 306ms/step - loss: 1.1952 - accuracy: 0.5709 - val_loss: 1.2235 - val_accuracy: 0.5623\n",
      "Epoch 14/25\n",
      "175/175 [==============================] - 54s 306ms/step - loss: 1.1798 - accuracy: 0.5772 - val_loss: 1.1984 - val_accuracy: 0.5711\n",
      "Epoch 15/25\n",
      "175/175 [==============================] - 53s 303ms/step - loss: 1.1599 - accuracy: 0.5839 - val_loss: 1.1903 - val_accuracy: 0.5738\n",
      "Epoch 16/25\n",
      "175/175 [==============================] - 53s 304ms/step - loss: 1.1467 - accuracy: 0.5892 - val_loss: 1.1969 - val_accuracy: 0.5728\n",
      "Epoch 17/25\n",
      "175/175 [==============================] - 54s 305ms/step - loss: 1.1307 - accuracy: 0.5964 - val_loss: 1.1862 - val_accuracy: 0.5731\n",
      "Epoch 18/25\n",
      "175/175 [==============================] - 54s 310ms/step - loss: 1.1246 - accuracy: 0.5981 - val_loss: 1.1830 - val_accuracy: 0.5775\n",
      "Epoch 19/25\n",
      "175/175 [==============================] - 54s 305ms/step - loss: 1.1178 - accuracy: 0.6004 - val_loss: 1.1691 - val_accuracy: 0.5809\n",
      "Epoch 20/25\n",
      "175/175 [==============================] - 53s 301ms/step - loss: 1.1002 - accuracy: 0.6075 - val_loss: 1.1355 - val_accuracy: 0.5947\n",
      "Epoch 21/25\n",
      "175/175 [==============================] - 54s 307ms/step - loss: 1.0880 - accuracy: 0.6123 - val_loss: 1.1369 - val_accuracy: 0.5959\n",
      "Epoch 22/25\n",
      "175/175 [==============================] - 53s 300ms/step - loss: 1.0813 - accuracy: 0.6148 - val_loss: 1.1330 - val_accuracy: 0.5977\n",
      "Epoch 23/25\n",
      "175/175 [==============================] - 54s 308ms/step - loss: 1.0718 - accuracy: 0.6172 - val_loss: 1.1253 - val_accuracy: 0.5996\n",
      "Epoch 24/25\n",
      "175/175 [==============================] - 53s 304ms/step - loss: 1.0629 - accuracy: 0.6205 - val_loss: 1.1395 - val_accuracy: 0.5948\n",
      "Epoch 25/25\n",
      "175/175 [==============================] - 53s 302ms/step - loss: 1.0567 - accuracy: 0.6227 - val_loss: 1.1150 - val_accuracy: 0.6019\n",
      "Found 90000 images belonging to 10 classes.\n",
      "Found 90000 images belonging to 10 classes.\n",
      "Epoch 1/25\n"
     ]
    },
    {
     "name": "stderr",
     "output_type": "stream",
     "text": [
      "2024-03-20 00:33:31.735622: I tensorflow/core/common_runtime/executor.cc:1197] [/device:CPU:0] (DEBUG INFO) Executor start aborting (this does not indicate an error and you can ignore this message): INVALID_ARGUMENT: You must feed a value for placeholder tensor 'Placeholder/_0' with dtype int32\n",
      "\t [[{{node Placeholder/_0}}]]\n"
     ]
    },
    {
     "name": "stdout",
     "output_type": "stream",
     "text": [
      "176/175 [==============================] - ETA: 0s - loss: 1.8376 - accuracy: 0.3173"
     ]
    },
    {
     "name": "stderr",
     "output_type": "stream",
     "text": [
      "2024-03-20 00:34:07.623959: I tensorflow/core/common_runtime/executor.cc:1197] [/device:CPU:0] (DEBUG INFO) Executor start aborting (this does not indicate an error and you can ignore this message): INVALID_ARGUMENT: You must feed a value for placeholder tensor 'Placeholder/_0' with dtype int32\n",
      "\t [[{{node Placeholder/_0}}]]\n"
     ]
    },
    {
     "name": "stdout",
     "output_type": "stream",
     "text": [
      "175/175 [==============================] - 55s 311ms/step - loss: 1.8376 - accuracy: 0.3173 - val_loss: 1.6850 - val_accuracy: 0.3700\n",
      "Epoch 2/25\n",
      "175/175 [==============================] - 53s 300ms/step - loss: 1.6171 - accuracy: 0.4043 - val_loss: 1.5728 - val_accuracy: 0.4258\n",
      "Epoch 3/25\n",
      "175/175 [==============================] - 52s 299ms/step - loss: 1.5228 - accuracy: 0.4416 - val_loss: 1.4721 - val_accuracy: 0.4624\n",
      "Epoch 4/25\n",
      "175/175 [==============================] - 55s 314ms/step - loss: 1.4458 - accuracy: 0.4734 - val_loss: 1.4915 - val_accuracy: 0.4626\n",
      "Epoch 5/25\n",
      "175/175 [==============================] - 54s 307ms/step - loss: 1.3922 - accuracy: 0.4948 - val_loss: 1.3764 - val_accuracy: 0.4999\n",
      "Epoch 6/25\n",
      "175/175 [==============================] - 54s 309ms/step - loss: 1.3490 - accuracy: 0.5119 - val_loss: 1.3629 - val_accuracy: 0.5079\n",
      "Epoch 7/25\n",
      "175/175 [==============================] - 53s 302ms/step - loss: 1.3242 - accuracy: 0.5234 - val_loss: 1.3349 - val_accuracy: 0.5195\n",
      "Epoch 8/25\n",
      "175/175 [==============================] - 53s 304ms/step - loss: 1.2883 - accuracy: 0.5358 - val_loss: 1.2873 - val_accuracy: 0.5377\n",
      "Epoch 9/25\n",
      "175/175 [==============================] - 53s 303ms/step - loss: 1.2640 - accuracy: 0.5450 - val_loss: 1.2853 - val_accuracy: 0.5340\n",
      "Epoch 10/25\n",
      "175/175 [==============================] - 54s 306ms/step - loss: 1.2343 - accuracy: 0.5590 - val_loss: 1.2488 - val_accuracy: 0.5533\n",
      "Epoch 11/25\n",
      "175/175 [==============================] - 53s 304ms/step - loss: 1.2193 - accuracy: 0.5640 - val_loss: 1.2406 - val_accuracy: 0.5557\n",
      "Epoch 12/25\n",
      "175/175 [==============================] - 54s 308ms/step - loss: 1.2017 - accuracy: 0.5705 - val_loss: 1.2390 - val_accuracy: 0.5552\n",
      "Epoch 13/25\n",
      "175/175 [==============================] - 53s 300ms/step - loss: 1.1792 - accuracy: 0.5795 - val_loss: 1.2396 - val_accuracy: 0.5550\n",
      "Epoch 14/25\n",
      "175/175 [==============================] - 53s 304ms/step - loss: 1.1722 - accuracy: 0.5814 - val_loss: 1.1856 - val_accuracy: 0.5781\n",
      "Epoch 15/25\n",
      "175/175 [==============================] - 53s 303ms/step - loss: 1.1503 - accuracy: 0.5878 - val_loss: 1.1997 - val_accuracy: 0.5698\n",
      "Epoch 16/25\n",
      "175/175 [==============================] - 53s 304ms/step - loss: 1.1329 - accuracy: 0.5949 - val_loss: 1.1698 - val_accuracy: 0.5797\n",
      "Epoch 17/25\n",
      "175/175 [==============================] - 53s 303ms/step - loss: 1.1210 - accuracy: 0.6010 - val_loss: 1.1622 - val_accuracy: 0.5829\n",
      "Epoch 18/25\n",
      "175/175 [==============================] - 55s 313ms/step - loss: 1.1076 - accuracy: 0.6048 - val_loss: 1.1658 - val_accuracy: 0.5851\n",
      "Epoch 19/25\n",
      "175/175 [==============================] - 55s 312ms/step - loss: 1.1032 - accuracy: 0.6069 - val_loss: 1.1389 - val_accuracy: 0.5937\n",
      "Epoch 20/25\n",
      "175/175 [==============================] - 54s 305ms/step - loss: 1.0795 - accuracy: 0.6155 - val_loss: 1.1316 - val_accuracy: 0.5968\n",
      "Epoch 21/25\n",
      "175/175 [==============================] - 54s 309ms/step - loss: 1.0786 - accuracy: 0.6164 - val_loss: 1.1276 - val_accuracy: 0.6009\n",
      "Epoch 22/25\n",
      "175/175 [==============================] - 53s 302ms/step - loss: 1.0688 - accuracy: 0.6194 - val_loss: 1.1207 - val_accuracy: 0.6008\n",
      "Epoch 23/25\n",
      "175/175 [==============================] - 53s 302ms/step - loss: 1.0596 - accuracy: 0.6218 - val_loss: 1.1068 - val_accuracy: 0.6053\n",
      "Epoch 24/25\n",
      "175/175 [==============================] - 54s 307ms/step - loss: 1.0504 - accuracy: 0.6245 - val_loss: 1.1102 - val_accuracy: 0.6042\n",
      "Epoch 25/25\n",
      "175/175 [==============================] - 53s 304ms/step - loss: 1.0354 - accuracy: 0.6301 - val_loss: 1.0950 - val_accuracy: 0.6111\n",
      "Found 90000 images belonging to 10 classes.\n",
      "Found 90000 images belonging to 10 classes.\n",
      "Epoch 1/25\n"
     ]
    },
    {
     "name": "stderr",
     "output_type": "stream",
     "text": [
      "2024-03-20 00:55:59.239968: I tensorflow/core/common_runtime/executor.cc:1197] [/device:CPU:0] (DEBUG INFO) Executor start aborting (this does not indicate an error and you can ignore this message): INVALID_ARGUMENT: You must feed a value for placeholder tensor 'Placeholder/_0' with dtype int32\n",
      "\t [[{{node Placeholder/_0}}]]\n"
     ]
    },
    {
     "name": "stdout",
     "output_type": "stream",
     "text": [
      "176/175 [==============================] - ETA: 0s - loss: 1.8346 - accuracy: 0.3202"
     ]
    },
    {
     "name": "stderr",
     "output_type": "stream",
     "text": [
      "2024-03-20 00:56:34.647336: I tensorflow/core/common_runtime/executor.cc:1197] [/device:CPU:0] (DEBUG INFO) Executor start aborting (this does not indicate an error and you can ignore this message): INVALID_ARGUMENT: You must feed a value for placeholder tensor 'Placeholder/_0' with dtype int32\n",
      "\t [[{{node Placeholder/_0}}]]\n"
     ]
    },
    {
     "name": "stdout",
     "output_type": "stream",
     "text": [
      "175/175 [==============================] - 54s 306ms/step - loss: 1.8346 - accuracy: 0.3202 - val_loss: 1.6796 - val_accuracy: 0.3824\n",
      "Epoch 2/25\n",
      "175/175 [==============================] - 54s 307ms/step - loss: 1.6001 - accuracy: 0.4088 - val_loss: 1.5915 - val_accuracy: 0.4209\n",
      "Epoch 3/25\n",
      "175/175 [==============================] - 54s 306ms/step - loss: 1.5006 - accuracy: 0.4509 - val_loss: 1.4563 - val_accuracy: 0.4678\n",
      "Epoch 4/25\n",
      "175/175 [==============================] - 53s 303ms/step - loss: 1.4196 - accuracy: 0.4871 - val_loss: 1.4054 - val_accuracy: 0.4890\n",
      "Epoch 5/25\n",
      "175/175 [==============================] - 54s 309ms/step - loss: 1.3667 - accuracy: 0.5074 - val_loss: 1.3540 - val_accuracy: 0.5124\n",
      "Epoch 6/25\n",
      "175/175 [==============================] - 54s 309ms/step - loss: 1.3264 - accuracy: 0.5222 - val_loss: 1.3443 - val_accuracy: 0.5161\n",
      "Epoch 7/25\n",
      "175/175 [==============================] - 56s 317ms/step - loss: 1.2927 - accuracy: 0.5341 - val_loss: 1.2940 - val_accuracy: 0.5333\n",
      "Epoch 8/25\n",
      "175/175 [==============================] - 53s 302ms/step - loss: 1.2629 - accuracy: 0.5477 - val_loss: 1.2874 - val_accuracy: 0.5371\n",
      "Epoch 9/25\n",
      "175/175 [==============================] - 54s 308ms/step - loss: 1.2426 - accuracy: 0.5551 - val_loss: 1.2635 - val_accuracy: 0.5434\n",
      "Epoch 10/25\n",
      "175/175 [==============================] - 53s 304ms/step - loss: 1.2185 - accuracy: 0.5615 - val_loss: 1.2723 - val_accuracy: 0.5489\n",
      "Epoch 11/25\n",
      "175/175 [==============================] - 54s 305ms/step - loss: 1.1924 - accuracy: 0.5727 - val_loss: 1.2068 - val_accuracy: 0.5671\n",
      "Epoch 12/25\n",
      "175/175 [==============================] - 54s 306ms/step - loss: 1.1810 - accuracy: 0.5766 - val_loss: 1.2051 - val_accuracy: 0.5641\n",
      "Epoch 13/25\n",
      "175/175 [==============================] - 54s 305ms/step - loss: 1.1623 - accuracy: 0.5845 - val_loss: 1.2373 - val_accuracy: 0.5609\n",
      "Epoch 14/25\n",
      "175/175 [==============================] - 53s 302ms/step - loss: 1.1442 - accuracy: 0.5900 - val_loss: 1.1710 - val_accuracy: 0.5832\n",
      "Epoch 15/25\n",
      "175/175 [==============================] - 54s 307ms/step - loss: 1.1321 - accuracy: 0.5960 - val_loss: 1.1594 - val_accuracy: 0.5862\n",
      "Epoch 16/25\n",
      "175/175 [==============================] - 54s 306ms/step - loss: 1.1188 - accuracy: 0.5998 - val_loss: 1.1516 - val_accuracy: 0.5895\n",
      "Epoch 17/25\n",
      "175/175 [==============================] - 53s 300ms/step - loss: 1.1032 - accuracy: 0.6046 - val_loss: 1.1722 - val_accuracy: 0.5819\n",
      "Epoch 18/25\n",
      "175/175 [==============================] - 56s 321ms/step - loss: 1.0882 - accuracy: 0.6120 - val_loss: 1.1455 - val_accuracy: 0.5923\n",
      "Epoch 19/25\n",
      "175/175 [==============================] - 54s 305ms/step - loss: 1.0875 - accuracy: 0.6110 - val_loss: 1.1650 - val_accuracy: 0.5847\n",
      "Epoch 20/25\n",
      "175/175 [==============================] - 54s 305ms/step - loss: 1.0690 - accuracy: 0.6193 - val_loss: 1.1268 - val_accuracy: 0.5983\n",
      "Epoch 21/25\n",
      "175/175 [==============================] - 53s 304ms/step - loss: 1.0562 - accuracy: 0.6233 - val_loss: 1.1409 - val_accuracy: 0.5932\n",
      "Epoch 22/25\n",
      "175/175 [==============================] - 54s 305ms/step - loss: 1.0463 - accuracy: 0.6272 - val_loss: 1.1070 - val_accuracy: 0.6067\n",
      "Epoch 23/25\n",
      "175/175 [==============================] - 54s 306ms/step - loss: 1.0431 - accuracy: 0.6275 - val_loss: 1.1049 - val_accuracy: 0.6068\n",
      "Epoch 24/25\n",
      "175/175 [==============================] - 53s 301ms/step - loss: 1.0276 - accuracy: 0.6347 - val_loss: 1.1036 - val_accuracy: 0.6086\n",
      "Epoch 25/25\n",
      "175/175 [==============================] - 55s 313ms/step - loss: 1.0216 - accuracy: 0.6362 - val_loss: 1.1007 - val_accuracy: 0.6070\n",
      "Found 90000 images belonging to 10 classes.\n",
      "Found 90000 images belonging to 10 classes.\n",
      "Epoch 1/25\n"
     ]
    },
    {
     "name": "stderr",
     "output_type": "stream",
     "text": [
      "2024-03-20 01:18:31.423514: I tensorflow/core/common_runtime/executor.cc:1197] [/device:CPU:0] (DEBUG INFO) Executor start aborting (this does not indicate an error and you can ignore this message): INVALID_ARGUMENT: You must feed a value for placeholder tensor 'Placeholder/_0' with dtype int32\n",
      "\t [[{{node Placeholder/_0}}]]\n"
     ]
    },
    {
     "name": "stdout",
     "output_type": "stream",
     "text": [
      "176/175 [==============================] - ETA: 0s - loss: 1.8519 - accuracy: 0.3105"
     ]
    },
    {
     "name": "stderr",
     "output_type": "stream",
     "text": [
      "2024-03-20 01:19:05.993320: I tensorflow/core/common_runtime/executor.cc:1197] [/device:CPU:0] (DEBUG INFO) Executor start aborting (this does not indicate an error and you can ignore this message): INVALID_ARGUMENT: You must feed a value for placeholder tensor 'Placeholder/_0' with dtype int32\n",
      "\t [[{{node Placeholder/_0}}]]\n"
     ]
    },
    {
     "name": "stdout",
     "output_type": "stream",
     "text": [
      "175/175 [==============================] - 54s 305ms/step - loss: 1.8519 - accuracy: 0.3105 - val_loss: 1.6758 - val_accuracy: 0.3852\n",
      "Epoch 2/25\n",
      "175/175 [==============================] - 52s 298ms/step - loss: 1.5849 - accuracy: 0.4188 - val_loss: 1.5373 - val_accuracy: 0.4464\n",
      "Epoch 3/25\n",
      "175/175 [==============================] - 53s 303ms/step - loss: 1.4946 - accuracy: 0.4569 - val_loss: 1.4465 - val_accuracy: 0.4744\n",
      "Epoch 4/25\n",
      "175/175 [==============================] - 55s 312ms/step - loss: 1.4220 - accuracy: 0.4842 - val_loss: 1.3985 - val_accuracy: 0.4953\n",
      "Epoch 5/25\n",
      "175/175 [==============================] - 53s 304ms/step - loss: 1.3653 - accuracy: 0.5064 - val_loss: 1.3569 - val_accuracy: 0.5105\n",
      "Epoch 6/25\n",
      "175/175 [==============================] - 53s 303ms/step - loss: 1.3249 - accuracy: 0.5217 - val_loss: 1.3564 - val_accuracy: 0.5106\n",
      "Epoch 7/25\n",
      "175/175 [==============================] - 53s 305ms/step - loss: 1.2980 - accuracy: 0.5316 - val_loss: 1.3053 - val_accuracy: 0.5306\n",
      "Epoch 8/25\n",
      "175/175 [==============================] - 54s 307ms/step - loss: 1.2681 - accuracy: 0.5436 - val_loss: 1.2639 - val_accuracy: 0.5462\n",
      "Epoch 9/25\n",
      "175/175 [==============================] - 55s 313ms/step - loss: 1.2425 - accuracy: 0.5526 - val_loss: 1.2485 - val_accuracy: 0.5519\n",
      "Epoch 10/25\n",
      "175/175 [==============================] - 54s 308ms/step - loss: 1.2180 - accuracy: 0.5615 - val_loss: 1.2507 - val_accuracy: 0.5463\n",
      "Epoch 11/25\n",
      "175/175 [==============================] - 54s 306ms/step - loss: 1.2054 - accuracy: 0.5678 - val_loss: 1.2298 - val_accuracy: 0.5623\n",
      "Epoch 12/25\n",
      "175/175 [==============================] - 53s 303ms/step - loss: 1.1834 - accuracy: 0.5744 - val_loss: 1.2044 - val_accuracy: 0.5666\n",
      "Epoch 13/25\n",
      "175/175 [==============================] - 55s 311ms/step - loss: 1.1617 - accuracy: 0.5833 - val_loss: 1.2059 - val_accuracy: 0.5663\n",
      "Epoch 14/25\n",
      "175/175 [==============================] - 53s 303ms/step - loss: 1.1537 - accuracy: 0.5865 - val_loss: 1.1872 - val_accuracy: 0.5772\n",
      "Epoch 15/25\n",
      "175/175 [==============================] - 53s 302ms/step - loss: 1.1318 - accuracy: 0.5958 - val_loss: 1.1600 - val_accuracy: 0.5851\n",
      "Epoch 16/25\n",
      "175/175 [==============================] - 53s 303ms/step - loss: 1.1203 - accuracy: 0.6003 - val_loss: 1.1535 - val_accuracy: 0.5874\n",
      "Epoch 17/25\n",
      "175/175 [==============================] - 53s 303ms/step - loss: 1.1058 - accuracy: 0.6046 - val_loss: 1.1508 - val_accuracy: 0.5885\n",
      "Epoch 18/25\n",
      "175/175 [==============================] - 53s 301ms/step - loss: 1.0954 - accuracy: 0.6084 - val_loss: 1.1496 - val_accuracy: 0.5882\n",
      "Epoch 19/25\n",
      "175/175 [==============================] - 53s 300ms/step - loss: 1.0908 - accuracy: 0.6113 - val_loss: 1.1406 - val_accuracy: 0.5904\n",
      "Epoch 20/25\n",
      "175/175 [==============================] - 53s 300ms/step - loss: 1.0691 - accuracy: 0.6185 - val_loss: 1.1483 - val_accuracy: 0.5915\n",
      "Epoch 21/25\n",
      "175/175 [==============================] - 55s 316ms/step - loss: 1.0665 - accuracy: 0.6199 - val_loss: 1.1103 - val_accuracy: 0.6035\n",
      "Epoch 22/25\n",
      "175/175 [==============================] - 54s 309ms/step - loss: 1.0479 - accuracy: 0.6257 - val_loss: 1.1178 - val_accuracy: 0.6020\n",
      "Epoch 23/25\n",
      "175/175 [==============================] - 53s 303ms/step - loss: 1.0406 - accuracy: 0.6279 - val_loss: 1.1024 - val_accuracy: 0.6061\n",
      "Epoch 24/25\n",
      "175/175 [==============================] - 54s 308ms/step - loss: 1.0306 - accuracy: 0.6331 - val_loss: 1.1095 - val_accuracy: 0.6016\n",
      "Epoch 25/25\n",
      "175/175 [==============================] - 54s 306ms/step - loss: 1.0253 - accuracy: 0.6343 - val_loss: 1.0900 - val_accuracy: 0.6102\n"
     ]
    }
   ],
   "source": [
    "#shear changes\n",
    "#Testing rotations\n",
    "shears = [0.1, 0.2, 0.3, 0.4]\n",
    "result_shears = []\n",
    "for shear in shears:\n",
    "    datagenTrain = ImageDataGenerator(\n",
    "    rescale=1.0 / 255,\n",
    "    shear_range=shear,\n",
    "    horizontal_flip=True,\n",
    "    fill_mode=\"reflect\",\n",
    "    )\n",
    "    datagenTest = ImageDataGenerator(rescale=1.0 / 255)\n",
    "    train_generator = datagenTrain.flow_from_directory(\n",
    "        data_dir + \"/train\",\n",
    "        target_size=(32, 32),  # Resize images to this size\n",
    "        batch_size=batch_size,  # Number of images to load at each iteration\n",
    "        class_mode=\"categorical\",\n",
    "    )  # Type of classification ('binary' or 'categorical')\n",
    "\n",
    "    test_generator = datagenTest.flow_from_directory(\n",
    "        data_dir + \"/test\",\n",
    "        target_size=(32, 32),\n",
    "        batch_size=batch_size,\n",
    "        class_mode=\"categorical\",\n",
    "    )\n",
    "    model = models.Sequential()\n",
    "    model.add(layers.Conv2D(32, (3, 3), activation=\"relu\", input_shape=(32, 32, 3)))\n",
    "    model.add(layers.MaxPooling2D((2, 2)))\n",
    "    model.add(layers.Conv2D(64, (3, 3), activation=\"relu\"))\n",
    "    model.add(layers.MaxPooling2D((2, 2)))\n",
    "    model.add(layers.Conv2D(64, (3, 3), activation=\"relu\"))\n",
    "    model.add(layers.Flatten())\n",
    "    model.add(layers.Dense(64, activation=\"relu\"))\n",
    "    model.add(layers.Dense(10, activation=\"softmax\"))\n",
    "\n",
    "\n",
    "    model.compile(\n",
    "        optimizer=\"adam\", loss=\"categorical_crossentropy\", metrics=[\"accuracy\"]\n",
    "    )\n",
    "    history = model.fit(\n",
    "    train_generator,\n",
    "    steps_per_epoch=steps_per_epoch,\n",
    "    epochs=epochs,\n",
    "    validation_data=test_generator,\n",
    "    validation_steps=steps_per_epoch,\n",
    "    )\n",
    "    result_shears.append(history)\n",
    "\n"
   ]
  },
  {
   "cell_type": "code",
   "execution_count": 18,
   "metadata": {},
   "outputs": [
    {
     "name": "stdout",
     "output_type": "stream",
     "text": [
      "Found 90000 images belonging to 10 classes.\n",
      "Found 90000 images belonging to 10 classes.\n",
      "Epoch 1/25\n"
     ]
    },
    {
     "name": "stderr",
     "output_type": "stream",
     "text": [
      "2024-03-20 01:40:57.533289: I tensorflow/core/common_runtime/executor.cc:1197] [/device:CPU:0] (DEBUG INFO) Executor start aborting (this does not indicate an error and you can ignore this message): INVALID_ARGUMENT: You must feed a value for placeholder tensor 'Placeholder/_0' with dtype int32\n",
      "\t [[{{node Placeholder/_0}}]]\n"
     ]
    },
    {
     "name": "stdout",
     "output_type": "stream",
     "text": [
      "176/175 [==============================] - ETA: 0s - loss: 1.8586 - accuracy: 0.3116"
     ]
    },
    {
     "name": "stderr",
     "output_type": "stream",
     "text": [
      "2024-03-20 01:41:35.319961: I tensorflow/core/common_runtime/executor.cc:1197] [/device:CPU:0] (DEBUG INFO) Executor start aborting (this does not indicate an error and you can ignore this message): INVALID_ARGUMENT: You must feed a value for placeholder tensor 'Placeholder/_0' with dtype int32\n",
      "\t [[{{node Placeholder/_0}}]]\n"
     ]
    },
    {
     "name": "stdout",
     "output_type": "stream",
     "text": [
      "175/175 [==============================] - 58s 329ms/step - loss: 1.8586 - accuracy: 0.3116 - val_loss: 1.7894 - val_accuracy: 0.3454\n",
      "Epoch 2/25\n",
      "175/175 [==============================] - 54s 306ms/step - loss: 1.6254 - accuracy: 0.4029 - val_loss: 1.5571 - val_accuracy: 0.4280\n",
      "Epoch 3/25\n",
      "175/175 [==============================] - 55s 315ms/step - loss: 1.5389 - accuracy: 0.4382 - val_loss: 1.5686 - val_accuracy: 0.4313\n",
      "Epoch 4/25\n",
      "175/175 [==============================] - 54s 306ms/step - loss: 1.4865 - accuracy: 0.4593 - val_loss: 1.4429 - val_accuracy: 0.4764\n",
      "Epoch 5/25\n",
      "175/175 [==============================] - 55s 311ms/step - loss: 1.4236 - accuracy: 0.4837 - val_loss: 1.3718 - val_accuracy: 0.5008\n",
      "Epoch 6/25\n",
      "175/175 [==============================] - 55s 312ms/step - loss: 1.3758 - accuracy: 0.5044 - val_loss: 1.3790 - val_accuracy: 0.5039\n",
      "Epoch 7/25\n",
      "175/175 [==============================] - 55s 314ms/step - loss: 1.3478 - accuracy: 0.5143 - val_loss: 1.3479 - val_accuracy: 0.5181\n",
      "Epoch 8/25\n",
      "175/175 [==============================] - 54s 308ms/step - loss: 1.3163 - accuracy: 0.5251 - val_loss: 1.3002 - val_accuracy: 0.5331\n",
      "Epoch 9/25\n",
      "175/175 [==============================] - 55s 316ms/step - loss: 1.2962 - accuracy: 0.5341 - val_loss: 1.2638 - val_accuracy: 0.5456\n",
      "Epoch 10/25\n",
      "175/175 [==============================] - 56s 316ms/step - loss: 1.2787 - accuracy: 0.5402 - val_loss: 1.2713 - val_accuracy: 0.5445\n",
      "Epoch 11/25\n",
      "175/175 [==============================] - 55s 312ms/step - loss: 1.2545 - accuracy: 0.5510 - val_loss: 1.2534 - val_accuracy: 0.5525\n",
      "Epoch 12/25\n",
      "175/175 [==============================] - 56s 316ms/step - loss: 1.2409 - accuracy: 0.5570 - val_loss: 1.2315 - val_accuracy: 0.5615\n",
      "Epoch 13/25\n",
      "175/175 [==============================] - 55s 313ms/step - loss: 1.2324 - accuracy: 0.5583 - val_loss: 1.2302 - val_accuracy: 0.5600\n",
      "Epoch 14/25\n",
      "175/175 [==============================] - 54s 308ms/step - loss: 1.2093 - accuracy: 0.5681 - val_loss: 1.2093 - val_accuracy: 0.5692\n",
      "Epoch 15/25\n",
      "175/175 [==============================] - 55s 314ms/step - loss: 1.1986 - accuracy: 0.5724 - val_loss: 1.1973 - val_accuracy: 0.5703\n",
      "Epoch 16/25\n",
      "175/175 [==============================] - 55s 314ms/step - loss: 1.1869 - accuracy: 0.5753 - val_loss: 1.2121 - val_accuracy: 0.5692\n",
      "Epoch 17/25\n",
      "175/175 [==============================] - 54s 307ms/step - loss: 1.1788 - accuracy: 0.5777 - val_loss: 1.1906 - val_accuracy: 0.5787\n",
      "Epoch 18/25\n",
      "175/175 [==============================] - 56s 317ms/step - loss: 1.1621 - accuracy: 0.5844 - val_loss: 1.1743 - val_accuracy: 0.5796\n",
      "Epoch 19/25\n",
      "175/175 [==============================] - 55s 315ms/step - loss: 1.1603 - accuracy: 0.5846 - val_loss: 1.1889 - val_accuracy: 0.5760\n",
      "Epoch 20/25\n",
      "175/175 [==============================] - 54s 307ms/step - loss: 1.1487 - accuracy: 0.5903 - val_loss: 1.2074 - val_accuracy: 0.5709\n",
      "Epoch 21/25\n",
      "175/175 [==============================] - 54s 309ms/step - loss: 1.1410 - accuracy: 0.5919 - val_loss: 1.1495 - val_accuracy: 0.5945\n",
      "Epoch 22/25\n",
      "175/175 [==============================] - 56s 318ms/step - loss: 1.1305 - accuracy: 0.5975 - val_loss: 1.1335 - val_accuracy: 0.6004\n",
      "Epoch 23/25\n",
      "175/175 [==============================] - 55s 316ms/step - loss: 1.1236 - accuracy: 0.5986 - val_loss: 1.1485 - val_accuracy: 0.5913\n",
      "Epoch 24/25\n",
      "175/175 [==============================] - 54s 308ms/step - loss: 1.1118 - accuracy: 0.6032 - val_loss: 1.1078 - val_accuracy: 0.6070\n",
      "Epoch 25/25\n",
      "175/175 [==============================] - 55s 312ms/step - loss: 1.1038 - accuracy: 0.6075 - val_loss: 1.1218 - val_accuracy: 0.6011\n",
      "Found 90000 images belonging to 10 classes.\n",
      "Found 90000 images belonging to 10 classes.\n",
      "Epoch 1/25\n"
     ]
    },
    {
     "name": "stderr",
     "output_type": "stream",
     "text": [
      "2024-03-20 02:03:56.717142: I tensorflow/core/common_runtime/executor.cc:1197] [/device:CPU:0] (DEBUG INFO) Executor start aborting (this does not indicate an error and you can ignore this message): INVALID_ARGUMENT: You must feed a value for placeholder tensor 'Placeholder/_0' with dtype int32\n",
      "\t [[{{node Placeholder/_0}}]]\n"
     ]
    },
    {
     "name": "stdout",
     "output_type": "stream",
     "text": [
      "176/175 [==============================] - ETA: 0s - loss: 1.8897 - accuracy: 0.2978"
     ]
    },
    {
     "name": "stderr",
     "output_type": "stream",
     "text": [
      "2024-03-20 02:04:33.483842: I tensorflow/core/common_runtime/executor.cc:1197] [/device:CPU:0] (DEBUG INFO) Executor start aborting (this does not indicate an error and you can ignore this message): INVALID_ARGUMENT: You must feed a value for placeholder tensor 'Placeholder/_0' with dtype int32\n",
      "\t [[{{node Placeholder/_0}}]]\n"
     ]
    },
    {
     "name": "stdout",
     "output_type": "stream",
     "text": [
      "175/175 [==============================] - 56s 318ms/step - loss: 1.8897 - accuracy: 0.2978 - val_loss: 1.7530 - val_accuracy: 0.3520\n",
      "Epoch 2/25\n",
      "175/175 [==============================] - 54s 308ms/step - loss: 1.6657 - accuracy: 0.3841 - val_loss: 1.6280 - val_accuracy: 0.4065\n",
      "Epoch 3/25\n",
      "175/175 [==============================] - 55s 314ms/step - loss: 1.5849 - accuracy: 0.4186 - val_loss: 1.4873 - val_accuracy: 0.4596\n",
      "Epoch 4/25\n",
      "175/175 [==============================] - 56s 317ms/step - loss: 1.5209 - accuracy: 0.4445 - val_loss: 1.4441 - val_accuracy: 0.4690\n",
      "Epoch 5/25\n",
      "175/175 [==============================] - 55s 311ms/step - loss: 1.4709 - accuracy: 0.4635 - val_loss: 1.4412 - val_accuracy: 0.4777\n",
      "Epoch 6/25\n",
      "175/175 [==============================] - 56s 316ms/step - loss: 1.4261 - accuracy: 0.4835 - val_loss: 1.3726 - val_accuracy: 0.5034\n",
      "Epoch 7/25\n",
      "175/175 [==============================] - 55s 314ms/step - loss: 1.4009 - accuracy: 0.4941 - val_loss: 1.3939 - val_accuracy: 0.5004\n",
      "Epoch 8/25\n",
      "175/175 [==============================] - 54s 309ms/step - loss: 1.3665 - accuracy: 0.5055 - val_loss: 1.3321 - val_accuracy: 0.5193\n",
      "Epoch 9/25\n",
      "175/175 [==============================] - 55s 314ms/step - loss: 1.3517 - accuracy: 0.5107 - val_loss: 1.3065 - val_accuracy: 0.5284\n",
      "Epoch 10/25\n",
      "175/175 [==============================] - 54s 308ms/step - loss: 1.3257 - accuracy: 0.5205 - val_loss: 1.2710 - val_accuracy: 0.5400\n",
      "Epoch 11/25\n",
      "175/175 [==============================] - 54s 308ms/step - loss: 1.3053 - accuracy: 0.5292 - val_loss: 1.2646 - val_accuracy: 0.5454\n",
      "Epoch 12/25\n",
      "175/175 [==============================] - 54s 308ms/step - loss: 1.2873 - accuracy: 0.5364 - val_loss: 1.2549 - val_accuracy: 0.5500\n",
      "Epoch 13/25\n",
      "175/175 [==============================] - 54s 308ms/step - loss: 1.2759 - accuracy: 0.5433 - val_loss: 1.2188 - val_accuracy: 0.5647\n",
      "Epoch 14/25\n",
      "175/175 [==============================] - 55s 312ms/step - loss: 1.2587 - accuracy: 0.5481 - val_loss: 1.2172 - val_accuracy: 0.5638\n",
      "Epoch 15/25\n",
      "175/175 [==============================] - 55s 315ms/step - loss: 1.2440 - accuracy: 0.5518 - val_loss: 1.2132 - val_accuracy: 0.5652\n",
      "Epoch 16/25\n",
      "175/175 [==============================] - 54s 306ms/step - loss: 1.2376 - accuracy: 0.5541 - val_loss: 1.2210 - val_accuracy: 0.5607\n",
      "Epoch 17/25\n",
      "175/175 [==============================] - 54s 307ms/step - loss: 1.2206 - accuracy: 0.5631 - val_loss: 1.1743 - val_accuracy: 0.5796\n",
      "Epoch 18/25\n",
      "175/175 [==============================] - 54s 308ms/step - loss: 1.2108 - accuracy: 0.5647 - val_loss: 1.1692 - val_accuracy: 0.5801\n",
      "Epoch 19/25\n",
      "175/175 [==============================] - 54s 309ms/step - loss: 1.1965 - accuracy: 0.5709 - val_loss: 1.1732 - val_accuracy: 0.5823\n",
      "Epoch 20/25\n",
      "175/175 [==============================] - 55s 313ms/step - loss: 1.1870 - accuracy: 0.5746 - val_loss: 1.1960 - val_accuracy: 0.5724\n",
      "Epoch 21/25\n",
      "175/175 [==============================] - 54s 309ms/step - loss: 1.1802 - accuracy: 0.5778 - val_loss: 1.1851 - val_accuracy: 0.5752\n",
      "Epoch 22/25\n",
      "175/175 [==============================] - 54s 309ms/step - loss: 1.1714 - accuracy: 0.5816 - val_loss: 1.1677 - val_accuracy: 0.5816\n",
      "Epoch 23/25\n",
      "175/175 [==============================] - 54s 308ms/step - loss: 1.1643 - accuracy: 0.5863 - val_loss: 1.1327 - val_accuracy: 0.5941\n",
      "Epoch 24/25\n",
      "175/175 [==============================] - 55s 310ms/step - loss: 1.1548 - accuracy: 0.5861 - val_loss: 1.1487 - val_accuracy: 0.5884\n",
      "Epoch 25/25\n",
      "175/175 [==============================] - 56s 317ms/step - loss: 1.1534 - accuracy: 0.5869 - val_loss: 1.1119 - val_accuracy: 0.6020\n",
      "Found 90000 images belonging to 10 classes.\n",
      "Found 90000 images belonging to 10 classes.\n",
      "Epoch 1/25\n"
     ]
    },
    {
     "name": "stderr",
     "output_type": "stream",
     "text": [
      "2024-03-20 02:26:48.947091: I tensorflow/core/common_runtime/executor.cc:1197] [/device:CPU:0] (DEBUG INFO) Executor start aborting (this does not indicate an error and you can ignore this message): INVALID_ARGUMENT: You must feed a value for placeholder tensor 'Placeholder/_0' with dtype int32\n",
      "\t [[{{node Placeholder/_0}}]]\n"
     ]
    },
    {
     "name": "stdout",
     "output_type": "stream",
     "text": [
      "176/175 [==============================] - ETA: 0s - loss: 1.8949 - accuracy: 0.2906"
     ]
    },
    {
     "name": "stderr",
     "output_type": "stream",
     "text": [
      "2024-03-20 02:27:26.170322: I tensorflow/core/common_runtime/executor.cc:1197] [/device:CPU:0] (DEBUG INFO) Executor start aborting (this does not indicate an error and you can ignore this message): INVALID_ARGUMENT: You must feed a value for placeholder tensor 'Placeholder/_0' with dtype int32\n",
      "\t [[{{node Placeholder/_0}}]]\n"
     ]
    },
    {
     "name": "stdout",
     "output_type": "stream",
     "text": [
      "175/175 [==============================] - 56s 318ms/step - loss: 1.8949 - accuracy: 0.2906 - val_loss: 1.7005 - val_accuracy: 0.3669\n",
      "Epoch 2/25\n",
      "175/175 [==============================] - 55s 311ms/step - loss: 1.6963 - accuracy: 0.3679 - val_loss: 1.6134 - val_accuracy: 0.4077\n",
      "Epoch 3/25\n",
      "175/175 [==============================] - 55s 311ms/step - loss: 1.6172 - accuracy: 0.4027 - val_loss: 1.5216 - val_accuracy: 0.4358\n",
      "Epoch 4/25\n",
      "175/175 [==============================] - 55s 312ms/step - loss: 1.5620 - accuracy: 0.4271 - val_loss: 1.4922 - val_accuracy: 0.4564\n",
      "Epoch 5/25\n",
      "175/175 [==============================] - 56s 320ms/step - loss: 1.5092 - accuracy: 0.4490 - val_loss: 1.4072 - val_accuracy: 0.4851\n",
      "Epoch 6/25\n",
      "175/175 [==============================] - 57s 325ms/step - loss: 1.4586 - accuracy: 0.4667 - val_loss: 1.3862 - val_accuracy: 0.4953\n",
      "Epoch 7/25\n",
      "175/175 [==============================] - 55s 315ms/step - loss: 1.4291 - accuracy: 0.4786 - val_loss: 1.3573 - val_accuracy: 0.5100\n",
      "Epoch 8/25\n",
      "175/175 [==============================] - 56s 320ms/step - loss: 1.4042 - accuracy: 0.4898 - val_loss: 1.3550 - val_accuracy: 0.5090\n",
      "Epoch 9/25\n",
      "175/175 [==============================] - 55s 314ms/step - loss: 1.3838 - accuracy: 0.4963 - val_loss: 1.3100 - val_accuracy: 0.5233\n",
      "Epoch 10/25\n",
      "175/175 [==============================] - 55s 310ms/step - loss: 1.3654 - accuracy: 0.5024 - val_loss: 1.3019 - val_accuracy: 0.5295\n",
      "Epoch 11/25\n",
      "175/175 [==============================] - 57s 326ms/step - loss: 1.3405 - accuracy: 0.5122 - val_loss: 1.3168 - val_accuracy: 0.5320\n",
      "Epoch 12/25\n",
      "175/175 [==============================] - 58s 327ms/step - loss: 1.3335 - accuracy: 0.5171 - val_loss: 1.2848 - val_accuracy: 0.5305\n",
      "Epoch 13/25\n",
      "175/175 [==============================] - 56s 318ms/step - loss: 1.3101 - accuracy: 0.5254 - val_loss: 1.2710 - val_accuracy: 0.5452\n",
      "Epoch 14/25\n",
      "175/175 [==============================] - 56s 320ms/step - loss: 1.2982 - accuracy: 0.5298 - val_loss: 1.2209 - val_accuracy: 0.5564\n",
      "Epoch 15/25\n",
      "175/175 [==============================] - 55s 311ms/step - loss: 1.2811 - accuracy: 0.5359 - val_loss: 1.2488 - val_accuracy: 0.5458\n",
      "Epoch 16/25\n",
      "175/175 [==============================] - 57s 324ms/step - loss: 1.2732 - accuracy: 0.5395 - val_loss: 1.1765 - val_accuracy: 0.5759\n",
      "Epoch 17/25\n",
      "175/175 [==============================] - 55s 312ms/step - loss: 1.2496 - accuracy: 0.5485 - val_loss: 1.2262 - val_accuracy: 0.5575\n",
      "Epoch 18/25\n",
      "175/175 [==============================] - 55s 311ms/step - loss: 1.2555 - accuracy: 0.5453 - val_loss: 1.1637 - val_accuracy: 0.5803\n",
      "Epoch 19/25\n",
      "175/175 [==============================] - 55s 311ms/step - loss: 1.2356 - accuracy: 0.5518 - val_loss: 1.1759 - val_accuracy: 0.5723\n",
      "Epoch 20/25\n",
      "175/175 [==============================] - 54s 305ms/step - loss: 1.2249 - accuracy: 0.5559 - val_loss: 1.1909 - val_accuracy: 0.5721\n",
      "Epoch 21/25\n",
      "175/175 [==============================] - 55s 312ms/step - loss: 1.2145 - accuracy: 0.5608 - val_loss: 1.1562 - val_accuracy: 0.5797\n",
      "Epoch 22/25\n",
      "175/175 [==============================] - 54s 310ms/step - loss: 1.2102 - accuracy: 0.5625 - val_loss: 1.1476 - val_accuracy: 0.5879\n",
      "Epoch 23/25\n",
      "175/175 [==============================] - 55s 311ms/step - loss: 1.2032 - accuracy: 0.5651 - val_loss: 1.1322 - val_accuracy: 0.5917\n",
      "Epoch 24/25\n",
      "175/175 [==============================] - 55s 313ms/step - loss: 1.1941 - accuracy: 0.5702 - val_loss: 1.1208 - val_accuracy: 0.5959\n",
      "Epoch 25/25\n",
      "175/175 [==============================] - 55s 314ms/step - loss: 1.1864 - accuracy: 0.5732 - val_loss: 1.1186 - val_accuracy: 0.5993\n",
      "Found 90000 images belonging to 10 classes.\n",
      "Found 90000 images belonging to 10 classes.\n",
      "Epoch 1/25\n"
     ]
    },
    {
     "name": "stderr",
     "output_type": "stream",
     "text": [
      "2024-03-20 02:49:59.151435: I tensorflow/core/common_runtime/executor.cc:1197] [/device:CPU:0] (DEBUG INFO) Executor start aborting (this does not indicate an error and you can ignore this message): INVALID_ARGUMENT: You must feed a value for placeholder tensor 'Placeholder/_0' with dtype int32\n",
      "\t [[{{node Placeholder/_0}}]]\n"
     ]
    },
    {
     "name": "stdout",
     "output_type": "stream",
     "text": [
      "176/175 [==============================] - ETA: 0s - loss: 1.9260 - accuracy: 0.2781"
     ]
    },
    {
     "name": "stderr",
     "output_type": "stream",
     "text": [
      "2024-03-20 02:50:35.151020: I tensorflow/core/common_runtime/executor.cc:1197] [/device:CPU:0] (DEBUG INFO) Executor start aborting (this does not indicate an error and you can ignore this message): INVALID_ARGUMENT: You must feed a value for placeholder tensor 'Placeholder/_0' with dtype int32\n",
      "\t [[{{node Placeholder/_0}}]]\n"
     ]
    },
    {
     "name": "stdout",
     "output_type": "stream",
     "text": [
      "175/175 [==============================] - 55s 309ms/step - loss: 1.9260 - accuracy: 0.2781 - val_loss: 1.7073 - val_accuracy: 0.3649\n",
      "Epoch 2/25\n",
      "175/175 [==============================] - 55s 314ms/step - loss: 1.7330 - accuracy: 0.3538 - val_loss: 1.6023 - val_accuracy: 0.4086\n",
      "Epoch 3/25\n",
      "175/175 [==============================] - 55s 310ms/step - loss: 1.6471 - accuracy: 0.3921 - val_loss: 1.6709 - val_accuracy: 0.4088\n",
      "Epoch 4/25\n",
      "175/175 [==============================] - 54s 310ms/step - loss: 1.5839 - accuracy: 0.4205 - val_loss: 1.5084 - val_accuracy: 0.4523\n",
      "Epoch 5/25\n",
      "175/175 [==============================] - 55s 311ms/step - loss: 1.5351 - accuracy: 0.4380 - val_loss: 1.4048 - val_accuracy: 0.4870\n",
      "Epoch 6/25\n",
      "175/175 [==============================] - 54s 310ms/step - loss: 1.5082 - accuracy: 0.4499 - val_loss: 1.4162 - val_accuracy: 0.4780\n",
      "Epoch 7/25\n",
      "175/175 [==============================] - 54s 310ms/step - loss: 1.4736 - accuracy: 0.4644 - val_loss: 1.4339 - val_accuracy: 0.4885\n",
      "Epoch 8/25\n",
      "175/175 [==============================] - 55s 311ms/step - loss: 1.4482 - accuracy: 0.4719 - val_loss: 1.3755 - val_accuracy: 0.4940\n",
      "Epoch 9/25\n",
      "175/175 [==============================] - 55s 314ms/step - loss: 1.4262 - accuracy: 0.4805 - val_loss: 1.3345 - val_accuracy: 0.5160\n",
      "Epoch 10/25\n",
      "175/175 [==============================] - 54s 308ms/step - loss: 1.4086 - accuracy: 0.4865 - val_loss: 1.3094 - val_accuracy: 0.5243\n",
      "Epoch 11/25\n",
      "175/175 [==============================] - 55s 313ms/step - loss: 1.3907 - accuracy: 0.4943 - val_loss: 1.2960 - val_accuracy: 0.5279\n",
      "Epoch 12/25\n",
      "175/175 [==============================] - 55s 311ms/step - loss: 1.3830 - accuracy: 0.4972 - val_loss: 1.2962 - val_accuracy: 0.5260\n",
      "Epoch 13/25\n",
      "175/175 [==============================] - 57s 326ms/step - loss: 1.3586 - accuracy: 0.5070 - val_loss: 1.2506 - val_accuracy: 0.5454\n",
      "Epoch 14/25\n",
      "175/175 [==============================] - 56s 316ms/step - loss: 1.3494 - accuracy: 0.5106 - val_loss: 1.2653 - val_accuracy: 0.5379\n",
      "Epoch 15/25\n",
      "175/175 [==============================] - 56s 317ms/step - loss: 1.3339 - accuracy: 0.5164 - val_loss: 1.2948 - val_accuracy: 0.5311\n",
      "Epoch 16/25\n",
      "175/175 [==============================] - 55s 313ms/step - loss: 1.3218 - accuracy: 0.5216 - val_loss: 1.2204 - val_accuracy: 0.5551\n",
      "Epoch 17/25\n",
      "175/175 [==============================] - 55s 313ms/step - loss: 1.3150 - accuracy: 0.5228 - val_loss: 1.2195 - val_accuracy: 0.5558\n",
      "Epoch 18/25\n",
      "175/175 [==============================] - 54s 307ms/step - loss: 1.3012 - accuracy: 0.5314 - val_loss: 1.2169 - val_accuracy: 0.5568\n",
      "Epoch 19/25\n",
      "175/175 [==============================] - 56s 319ms/step - loss: 1.2907 - accuracy: 0.5330 - val_loss: 1.2201 - val_accuracy: 0.5547\n",
      "Epoch 20/25\n",
      "175/175 [==============================] - 54s 309ms/step - loss: 1.2807 - accuracy: 0.5346 - val_loss: 1.2059 - val_accuracy: 0.5620\n",
      "Epoch 21/25\n",
      "175/175 [==============================] - 54s 306ms/step - loss: 1.2746 - accuracy: 0.5404 - val_loss: 1.2465 - val_accuracy: 0.5535\n",
      "Epoch 22/25\n",
      "175/175 [==============================] - 55s 313ms/step - loss: 1.2735 - accuracy: 0.5398 - val_loss: 1.1970 - val_accuracy: 0.5700\n",
      "Epoch 23/25\n",
      "175/175 [==============================] - 55s 312ms/step - loss: 1.2525 - accuracy: 0.5468 - val_loss: 1.2264 - val_accuracy: 0.5601\n",
      "Epoch 24/25\n",
      "175/175 [==============================] - 55s 312ms/step - loss: 1.2504 - accuracy: 0.5497 - val_loss: 1.1789 - val_accuracy: 0.5764\n",
      "Epoch 25/25\n",
      "175/175 [==============================] - 55s 311ms/step - loss: 1.2432 - accuracy: 0.5513 - val_loss: 1.2007 - val_accuracy: 0.5704\n"
     ]
    }
   ],
   "source": [
    "#calculating shifts\n",
    "#shear changes\n",
    "#Testing rotations\n",
    "shifts = [0.05, 0.1, 0.15, 0.2]\n",
    "result_shifts = []\n",
    "for shift in shifts:\n",
    "    datagenTrain = ImageDataGenerator(\n",
    "    rescale=1.0 / 255,\n",
    "    width_shift_range=shift,\n",
    "    height_shift_range=shift,\n",
    "    horizontal_flip=True,\n",
    "    fill_mode=\"reflect\",\n",
    "    )\n",
    "    datagenTest = ImageDataGenerator(rescale=1.0 / 255)\n",
    "    train_generator = datagenTrain.flow_from_directory(\n",
    "        data_dir + \"/train\",\n",
    "        target_size=(32, 32),  # Resize images to this size\n",
    "        batch_size=batch_size,  # Number of images to load at each iteration\n",
    "        class_mode=\"categorical\",\n",
    "    )  # Type of classification ('binary' or 'categorical')\n",
    "\n",
    "    test_generator = datagenTest.flow_from_directory(\n",
    "        data_dir + \"/test\",\n",
    "        target_size=(32, 32),\n",
    "        batch_size=batch_size,\n",
    "        class_mode=\"categorical\",\n",
    "    )\n",
    "    model = models.Sequential()\n",
    "    model.add(layers.Conv2D(32, (3, 3), activation=\"relu\", input_shape=(32, 32, 3)))\n",
    "    model.add(layers.MaxPooling2D((2, 2)))\n",
    "    model.add(layers.Conv2D(64, (3, 3), activation=\"relu\"))\n",
    "    model.add(layers.MaxPooling2D((2, 2)))\n",
    "    model.add(layers.Conv2D(64, (3, 3), activation=\"relu\"))\n",
    "    model.add(layers.Flatten())\n",
    "    model.add(layers.Dense(64, activation=\"relu\"))\n",
    "    model.add(layers.Dense(10, activation=\"softmax\"))\n",
    "\n",
    "\n",
    "    model.compile(\n",
    "        optimizer=\"adam\", loss=\"categorical_crossentropy\", metrics=[\"accuracy\"]\n",
    "    )\n",
    "    history = model.fit(\n",
    "    train_generator,\n",
    "    steps_per_epoch=steps_per_epoch,\n",
    "    epochs=epochs,\n",
    "    validation_data=test_generator,\n",
    "    validation_steps=steps_per_epoch,\n",
    "    )\n",
    "    result_shifts.append(history)\n",
    "\n"
   ]
  },
  {
   "cell_type": "code",
   "execution_count": 19,
   "metadata": {},
   "outputs": [
    {
     "data": {
      "text/plain": [
       "4"
      ]
     },
     "execution_count": 19,
     "metadata": {},
     "output_type": "execute_result"
    }
   ],
   "source": [
    "len(result_shifts)"
   ]
  },
  {
   "cell_type": "code",
   "execution_count": 20,
   "metadata": {},
   "outputs": [
    {
     "data": {
      "text/plain": [
       "Text(0, 0.5, 'Validation accuracy')"
      ]
     },
     "execution_count": 20,
     "metadata": {},
     "output_type": "execute_result"
    },
    {
     "data": {
      "image/png": "[encoded data removed]",
      "text/plain": [
       "<Figure size 640x480 with 1 Axes>"
      ]
     },
     "metadata": {},
     "output_type": "display_data"
    }
   ],
   "source": [
    "for i, res in enumerate(result_shifts):\n",
    "    plt.plot(res.history[\"val_accuracy\"], label=f\"shift={shifts[i]}\")\n",
    "plt.legend()\n",
    "plt.xlabel(\"Epochs\")\n",
    "plt.ylabel(\"Validation accuracy\")"
   ]
  },
  {
   "cell_type": "code",
   "execution_count": 21,
   "metadata": {},
   "outputs": [
    {
     "data": {
      "text/plain": [
       "Text(0, 0.5, 'Validation accuracy')"
      ]
     },
     "execution_count": 21,
     "metadata": {},
     "output_type": "execute_result"
    },
    {
     "data": {
      "image/png": "[encoded data removed]",
      "text/plain": [
       "<Figure size 640x480 with 1 Axes>"
      ]
     },
     "metadata": {},
     "output_type": "display_data"
    }
   ],
   "source": [
    "for i, res in enumerate(result_shears):\n",
    "    plt.plot(res.history[\"val_accuracy\"], label=f\"shear={shears[i]}\")\n",
    "plt.legend()\n",
    "plt.xlabel(\"Epochs\")\n",
    "plt.ylabel(\"Validation accuracy\")"
   ]
  },
  {
   "cell_type": "code",
   "execution_count": 22,
   "metadata": {},
   "outputs": [
    {
     "data": {
      "text/plain": [
       "Text(0, 0.5, 'Validation accuracy')"
      ]
     },
     "execution_count": 22,
     "metadata": {},
     "output_type": "execute_result"
    },
    {
     "data": {
      "image/png": "[encoded data removed]",
      "text/plain": [
       "<Figure size 640x480 with 1 Axes>"
      ]
     },
     "metadata": {},
     "output_type": "display_data"
    }
   ],
   "source": [
    "for i, res in enumerate(result_rotations):\n",
    "    plt.plot(res.history[\"val_accuracy\"], label=f\"rotation={rotations[i]}\")\n",
    "plt.legend()\n",
    "plt.xlabel(\"Epochs\")\n",
    "plt.ylabel(\"Validation accuracy\")"
   ]
  },
  {
   "cell_type": "code",
   "execution_count": null,
   "metadata": {},
   "outputs": [],
   "source": []
  }
 ],
 "metadata": {
  "kernelspec": {
   "display_name": "Datascience",
   "language": "python",
   "name": "python3"
  },
  "language_info": {
   "codemirror_mode": {
    "name": "ipython",
    "version": 3
   },
   "file_extension": ".py",
   "mimetype": "text/x-python",
   "name": "python",
   "nbconvert_exporter": "python",
   "pygments_lexer": "ipython3",
   "version": "3.11.5"
  }
 },
 "nbformat": 4,
 "nbformat_minor": 2
}
